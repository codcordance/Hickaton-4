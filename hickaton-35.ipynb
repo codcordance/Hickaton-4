{
 "cells": [
  {
   "cell_type": "code",
   "execution_count": 1,
   "id": "initial_id",
   "metadata": {
    "collapsed": true,
    "ExecuteTime": {
     "end_time": "2023-12-02T23:36:37.001520700Z",
     "start_time": "2023-12-02T23:36:29.724383Z"
    }
   },
   "outputs": [],
   "source": [
    "import pandas as pd\n",
    "import numpy as np\n",
    "import dalex as dx\n",
    "\n",
    "from sklearn.compose import ColumnTransformer\n",
    "from sklearn.pipeline import Pipeline\n",
    "from sklearn.preprocessing import OneHotEncoder, OrdinalEncoder\n",
    "from sklearn.preprocessing import StandardScaler\n",
    "from sklearn.impute import SimpleImputer"
   ]
  },
  {
   "cell_type": "markdown",
   "source": [
    "# Data exploration and pre-processing\n",
    "\n",
    "We load data from `train-data.csv` and `X_test.csv` in pandas DataFrames."
   ],
   "metadata": {
    "collapsed": false
   },
   "id": "2c7939dea01b31e"
  },
  {
   "cell_type": "code",
   "execution_count": 2,
   "outputs": [],
   "source": [
    "train_data = pd.read_csv(\"./data/completed_train_data.csv.csv\", sep=\";\")\n",
    "X_set = pd.read_csv(\"./data/X_test.csv\", sep=\";\")"
   ],
   "metadata": {
    "collapsed": false,
    "ExecuteTime": {
     "end_time": "2023-12-02T23:36:56.364472100Z",
     "start_time": "2023-12-02T23:36:37.003517600Z"
    }
   },
   "id": "9f554850e4f7e8a4"
  },
  {
   "cell_type": "markdown",
   "source": [
    "We display `train_data` sorted by _index_."
   ],
   "metadata": {
    "collapsed": false
   },
   "id": "571c364b00cf711d"
  },
  {
   "cell_type": "code",
   "execution_count": 3,
   "outputs": [
    {
     "data": {
      "text/plain": "           index  id_product Region Country            Site  \\\n2061569        0           0   EAJP      AU    AU_DC_Sydney   \n946355         0           0   EAJP      AU    AU_DC_Sydney   \n1222945        2           2   EAJP      AU    AU_DC_Sydney   \n2165839        2           2   EAJP      AU    AU_DC_Sydney   \n2567627        3           3   EAJP      AU    AU_DC_Sydney   \n...          ...         ...    ...     ...             ...   \n2607229  2203709      244853  CHINA      CN     CN_DC_Wuhan   \n3079899  2203710      244854  CHINA      CN     CN_DC_Wuhan   \n651780   2203710      244854  CHINA      CN     CN_DC_Wuhan   \n1124213  2203712      244856  CHINA      HK  HK_DC_HongKong   \n3139539  2203712      244856  CHINA      HK  HK_DC_HongKong   \n\n                       Operations        Zone            Cluster  \\\n2061569  International Operations     Pacific          Australia   \n946355   International Operations     Pacific          Australia   \n1222945  International Operations     Pacific          Australia   \n2165839  International Operations     Pacific          Australia   \n2567627  International Operations     Pacific          Australia   \n...                           ...         ...                ...   \n2607229          China Operations  China & HK              China   \n3079899          China Operations  China & HK              China   \n651780           China Operations  China & HK              China   \n1124213          China Operations  China & HK  Hong Kong & Macao   \n3139539          China Operations  China & HK  Hong Kong & Macao   \n\n         Reference proxy Product  Line proxy Division proxy  \\\n2061569      reference-1      Product Line-1     Division-1   \n946355       reference-1      Product Line-1     Division-1   \n1222945      reference-2      Product Line-1     Division-1   \n2165839      reference-2      Product Line-1     Division-1   \n2567627      reference-2      Product Line-1     Division-1   \n...                  ...                 ...            ...   \n2607229  reference-22406      Product Line-4     Division-3   \n3079899  reference-22406      Product Line-4     Division-3   \n651780   reference-22406      Product Line-4     Division-3   \n1124213   reference-9687      Product Line-4     Division-3   \n3139539   reference-9687      Product Line-4     Division-3   \n\n           Customer Persona proxy Strategic Product Family proxy  \\\n2061569   Customer Segmentation-1     Strategic Product Family-1   \n946355    Customer Segmentation-1     Strategic Product Family-1   \n1222945   Customer Segmentation-3     Strategic Product Family-1   \n2165839   Customer Segmentation-3     Strategic Product Family-1   \n2567627   Customer Segmentation-4     Strategic Product Family-1   \n...                           ...                            ...   \n2607229  Customer Segmentation-13     Strategic Product Family-9   \n3079899   Customer Segmentation-4     Strategic Product Family-9   \n651780    Customer Segmentation-4     Strategic Product Family-9   \n1124213  Customer Segmentation-70     Strategic Product Family-9   \n3139539  Customer Segmentation-70     Strategic Product Family-9   \n\n        Product Life cycel status          Date Month 1 Month 2 Month 3  \\\n2061569                       NaN  sep-dec 2020       0       0       0   \n946355                        NaN  sep-dec 2020       0       0       0   \n1222945                       EOL  sep-dec 2020       0       0       0   \n2165839                       EOL  sep-dec 2020       0       0       0   \n2567627                       EOL  sep-dec 2020       0       0       0   \n...                           ...           ...     ...     ...     ...   \n2607229                       NaN  may-jul 2023     NaN      50     120   \n3079899                       NaN  may-jul 2023     NaN      85     210   \n651780                        NaN  may-jul 2023     NaN      85     210   \n1124213                       EOL  may-jul 2023     NaN       0       0   \n3139539                       EOL  may-jul 2023     NaN       0       0   \n\n        Month 4  \n2061569       0  \n946355        0  \n1222945       0  \n2165839       0  \n2567627       0  \n...         ...  \n2607229      50  \n3079899       0  \n651780        0  \n1124213       0  \n3139539       0  \n\n[3173346 rows x 19 columns]",
      "text/html": "<div>\n<style scoped>\n    .dataframe tbody tr th:only-of-type {\n        vertical-align: middle;\n    }\n\n    .dataframe tbody tr th {\n        vertical-align: top;\n    }\n\n    .dataframe thead th {\n        text-align: right;\n    }\n</style>\n<table border=\"1\" class=\"dataframe\">\n  <thead>\n    <tr style=\"text-align: right;\">\n      <th></th>\n      <th>index</th>\n      <th>id_product</th>\n      <th>Region</th>\n      <th>Country</th>\n      <th>Site</th>\n      <th>Operations</th>\n      <th>Zone</th>\n      <th>Cluster</th>\n      <th>Reference proxy</th>\n      <th>Product  Line proxy</th>\n      <th>Division proxy</th>\n      <th>Customer Persona proxy</th>\n      <th>Strategic Product Family proxy</th>\n      <th>Product Life cycel status</th>\n      <th>Date</th>\n      <th>Month 1</th>\n      <th>Month 2</th>\n      <th>Month 3</th>\n      <th>Month 4</th>\n    </tr>\n  </thead>\n  <tbody>\n    <tr>\n      <th>2061569</th>\n      <td>0</td>\n      <td>0</td>\n      <td>EAJP</td>\n      <td>AU</td>\n      <td>AU_DC_Sydney</td>\n      <td>International Operations</td>\n      <td>Pacific</td>\n      <td>Australia</td>\n      <td>reference-1</td>\n      <td>Product Line-1</td>\n      <td>Division-1</td>\n      <td>Customer Segmentation-1</td>\n      <td>Strategic Product Family-1</td>\n      <td>NaN</td>\n      <td>sep-dec 2020</td>\n      <td>0</td>\n      <td>0</td>\n      <td>0</td>\n      <td>0</td>\n    </tr>\n    <tr>\n      <th>946355</th>\n      <td>0</td>\n      <td>0</td>\n      <td>EAJP</td>\n      <td>AU</td>\n      <td>AU_DC_Sydney</td>\n      <td>International Operations</td>\n      <td>Pacific</td>\n      <td>Australia</td>\n      <td>reference-1</td>\n      <td>Product Line-1</td>\n      <td>Division-1</td>\n      <td>Customer Segmentation-1</td>\n      <td>Strategic Product Family-1</td>\n      <td>NaN</td>\n      <td>sep-dec 2020</td>\n      <td>0</td>\n      <td>0</td>\n      <td>0</td>\n      <td>0</td>\n    </tr>\n    <tr>\n      <th>1222945</th>\n      <td>2</td>\n      <td>2</td>\n      <td>EAJP</td>\n      <td>AU</td>\n      <td>AU_DC_Sydney</td>\n      <td>International Operations</td>\n      <td>Pacific</td>\n      <td>Australia</td>\n      <td>reference-2</td>\n      <td>Product Line-1</td>\n      <td>Division-1</td>\n      <td>Customer Segmentation-3</td>\n      <td>Strategic Product Family-1</td>\n      <td>EOL</td>\n      <td>sep-dec 2020</td>\n      <td>0</td>\n      <td>0</td>\n      <td>0</td>\n      <td>0</td>\n    </tr>\n    <tr>\n      <th>2165839</th>\n      <td>2</td>\n      <td>2</td>\n      <td>EAJP</td>\n      <td>AU</td>\n      <td>AU_DC_Sydney</td>\n      <td>International Operations</td>\n      <td>Pacific</td>\n      <td>Australia</td>\n      <td>reference-2</td>\n      <td>Product Line-1</td>\n      <td>Division-1</td>\n      <td>Customer Segmentation-3</td>\n      <td>Strategic Product Family-1</td>\n      <td>EOL</td>\n      <td>sep-dec 2020</td>\n      <td>0</td>\n      <td>0</td>\n      <td>0</td>\n      <td>0</td>\n    </tr>\n    <tr>\n      <th>2567627</th>\n      <td>3</td>\n      <td>3</td>\n      <td>EAJP</td>\n      <td>AU</td>\n      <td>AU_DC_Sydney</td>\n      <td>International Operations</td>\n      <td>Pacific</td>\n      <td>Australia</td>\n      <td>reference-2</td>\n      <td>Product Line-1</td>\n      <td>Division-1</td>\n      <td>Customer Segmentation-4</td>\n      <td>Strategic Product Family-1</td>\n      <td>EOL</td>\n      <td>sep-dec 2020</td>\n      <td>0</td>\n      <td>0</td>\n      <td>0</td>\n      <td>0</td>\n    </tr>\n    <tr>\n      <th>...</th>\n      <td>...</td>\n      <td>...</td>\n      <td>...</td>\n      <td>...</td>\n      <td>...</td>\n      <td>...</td>\n      <td>...</td>\n      <td>...</td>\n      <td>...</td>\n      <td>...</td>\n      <td>...</td>\n      <td>...</td>\n      <td>...</td>\n      <td>...</td>\n      <td>...</td>\n      <td>...</td>\n      <td>...</td>\n      <td>...</td>\n      <td>...</td>\n    </tr>\n    <tr>\n      <th>2607229</th>\n      <td>2203709</td>\n      <td>244853</td>\n      <td>CHINA</td>\n      <td>CN</td>\n      <td>CN_DC_Wuhan</td>\n      <td>China Operations</td>\n      <td>China &amp; HK</td>\n      <td>China</td>\n      <td>reference-22406</td>\n      <td>Product Line-4</td>\n      <td>Division-3</td>\n      <td>Customer Segmentation-13</td>\n      <td>Strategic Product Family-9</td>\n      <td>NaN</td>\n      <td>may-jul 2023</td>\n      <td>NaN</td>\n      <td>50</td>\n      <td>120</td>\n      <td>50</td>\n    </tr>\n    <tr>\n      <th>3079899</th>\n      <td>2203710</td>\n      <td>244854</td>\n      <td>CHINA</td>\n      <td>CN</td>\n      <td>CN_DC_Wuhan</td>\n      <td>China Operations</td>\n      <td>China &amp; HK</td>\n      <td>China</td>\n      <td>reference-22406</td>\n      <td>Product Line-4</td>\n      <td>Division-3</td>\n      <td>Customer Segmentation-4</td>\n      <td>Strategic Product Family-9</td>\n      <td>NaN</td>\n      <td>may-jul 2023</td>\n      <td>NaN</td>\n      <td>85</td>\n      <td>210</td>\n      <td>0</td>\n    </tr>\n    <tr>\n      <th>651780</th>\n      <td>2203710</td>\n      <td>244854</td>\n      <td>CHINA</td>\n      <td>CN</td>\n      <td>CN_DC_Wuhan</td>\n      <td>China Operations</td>\n      <td>China &amp; HK</td>\n      <td>China</td>\n      <td>reference-22406</td>\n      <td>Product Line-4</td>\n      <td>Division-3</td>\n      <td>Customer Segmentation-4</td>\n      <td>Strategic Product Family-9</td>\n      <td>NaN</td>\n      <td>may-jul 2023</td>\n      <td>NaN</td>\n      <td>85</td>\n      <td>210</td>\n      <td>0</td>\n    </tr>\n    <tr>\n      <th>1124213</th>\n      <td>2203712</td>\n      <td>244856</td>\n      <td>CHINA</td>\n      <td>HK</td>\n      <td>HK_DC_HongKong</td>\n      <td>China Operations</td>\n      <td>China &amp; HK</td>\n      <td>Hong Kong &amp; Macao</td>\n      <td>reference-9687</td>\n      <td>Product Line-4</td>\n      <td>Division-3</td>\n      <td>Customer Segmentation-70</td>\n      <td>Strategic Product Family-9</td>\n      <td>EOL</td>\n      <td>may-jul 2023</td>\n      <td>NaN</td>\n      <td>0</td>\n      <td>0</td>\n      <td>0</td>\n    </tr>\n    <tr>\n      <th>3139539</th>\n      <td>2203712</td>\n      <td>244856</td>\n      <td>CHINA</td>\n      <td>HK</td>\n      <td>HK_DC_HongKong</td>\n      <td>China Operations</td>\n      <td>China &amp; HK</td>\n      <td>Hong Kong &amp; Macao</td>\n      <td>reference-9687</td>\n      <td>Product Line-4</td>\n      <td>Division-3</td>\n      <td>Customer Segmentation-70</td>\n      <td>Strategic Product Family-9</td>\n      <td>EOL</td>\n      <td>may-jul 2023</td>\n      <td>NaN</td>\n      <td>0</td>\n      <td>0</td>\n      <td>0</td>\n    </tr>\n  </tbody>\n</table>\n<p>3173346 rows × 19 columns</p>\n</div>"
     },
     "execution_count": 3,
     "metadata": {},
     "output_type": "execute_result"
    }
   ],
   "source": [
    "train_data.sort_values(by=\"index\")"
   ],
   "metadata": {
    "collapsed": false,
    "ExecuteTime": {
     "end_time": "2023-12-02T23:37:03.717691200Z",
     "start_time": "2023-12-02T23:36:56.375403300Z"
    }
   },
   "id": "6738b4ed21e2635d"
  },
  {
   "cell_type": "markdown",
   "source": [
    "We see that some rows with the same index seems to be duplicates (same index). By grouping by _index_, we can confirm that :"
   ],
   "metadata": {
    "collapsed": false
   },
   "id": "2859bbc1db1d8d83"
  },
  {
   "cell_type": "code",
   "execution_count": 4,
   "outputs": [
    {
     "data": {
      "text/plain": "id_product                        1\nRegion                            1\nCountry                           1\nSite                              1\nOperations                        1\nZone                              1\nCluster                           1\nReference proxy                   1\nProduct  Line proxy               1\nDivision proxy                    1\nCustomer Persona proxy            1\nStrategic Product Family proxy    1\nProduct Life cycel status         1\nDate                              1\nMonth 1                           1\nMonth 2                           1\nMonth 3                           1\nMonth 4                           1\ndtype: int64"
     },
     "execution_count": 4,
     "metadata": {},
     "output_type": "execute_result"
    }
   ],
   "source": [
    "train_data.groupby(\"index\").nunique().max()"
   ],
   "metadata": {
    "collapsed": false,
    "ExecuteTime": {
     "end_time": "2023-12-02T23:38:01.171929300Z",
     "start_time": "2023-12-02T23:37:03.722641800Z"
    }
   },
   "id": "adfcf486ee47c6ce"
  },
  {
   "cell_type": "markdown",
   "source": [
    "That being said, we'll be able to drop duplicates by _index_. We can also display `X_set` sorted by _index_."
   ],
   "metadata": {
    "collapsed": false
   },
   "id": "708355c9ee43c0ab"
  },
  {
   "cell_type": "code",
   "execution_count": 5,
   "outputs": [
    {
     "data": {
      "text/plain": "          index  id_product Region Country             Site  \\\n23512         1           1   EAJP      AU     AU_DC_Sydney   \n248701        7           7   EAJP      AU     AU_DC_Sydney   \n177623       20          20   EAJP      AU  AU_DC_Melbourne   \n208094       27          27   EAJP      AU      AU_DC_Perth   \n81837        34          34   EAJP      AU     AU_DC_Sydney   \n...         ...         ...    ...     ...              ...   \n283407  2203686      244830  CHINA      CN      CN_DC_Wuhan   \n301262  2203690      244834  CHINA      CN        CN_DC_SHD   \n75874   2203695      244839  CHINA      HK        SG_DC_ASD   \n369953  2203700      244844  CHINA      CN   CN_DC_Shanghai   \n149253  2203711      244855  CHINA      HK   HK_DC_HongKong   \n\n                      Operations        Zone            Cluster  \\\n23512   International Operations     Pacific          Australia   \n248701  International Operations     Pacific          Australia   \n177623  International Operations     Pacific          Australia   \n208094  International Operations     Pacific          Australia   \n81837   International Operations     Pacific          Australia   \n...                          ...         ...                ...   \n283407          China Operations  China & HK              China   \n301262          China Operations  China & HK              China   \n75874           China Operations  China & HK  Hong Kong & Macao   \n369953          China Operations  China & HK              China   \n149253          China Operations  China & HK  Hong Kong & Macao   \n\n        Reference proxy Product  Line proxy Division proxy  \\\n23512       reference-2      Product Line-1     Division-1   \n248701      reference-2      Product Line-1     Division-1   \n177623      reference-4      Product Line-1     Division-1   \n208094      reference-4      Product Line-1     Division-1   \n81837       reference-8      Product Line-1     Division-1   \n...                 ...                 ...            ...   \n283407  reference-22404      Product Line-4     Division-3   \n301262   reference-4151      Product Line-3     Division-2   \n75874    reference-4152      Product Line-3     Division-2   \n369953  reference-22405      Product Line-4     Division-3   \n149253   reference-9686      Product Line-4     Division-3   \n\n          Customer Persona proxy Strategic Product Family proxy  \\\n23512    Customer Segmentation-2     Strategic Product Family-1   \n248701   Customer Segmentation-8     Strategic Product Family-1   \n177623  Customer Segmentation-10     Strategic Product Family-1   \n208094  Customer Segmentation-10     Strategic Product Family-1   \n81837   Customer Segmentation-13     Strategic Product Family-1   \n...                          ...                            ...   \n283407  Customer Segmentation-16     Strategic Product Family-9   \n301262  Customer Segmentation-16     Strategic Product Family-7   \n75874   Customer Segmentation-33     Strategic Product Family-7   \n369953   Customer Segmentation-3     Strategic Product Family-9   \n149253  Customer Segmentation-70     Strategic Product Family-9   \n\n       Product Life cycel status          Date Month 1 Month 2 Month 3  \n23512                        EOL  sep-dec 2020       0       0       0  \n248701                       EOL  sep-dec 2020       1       0       0  \n177623                       NaN  sep-dec 2020       2       1       9  \n208094                       NaN  sep-dec 2020       0       3       1  \n81837                        NPI  sep-dec 2020       0       0       0  \n...                          ...           ...     ...     ...     ...  \n283407                       NaN  may-jul 2023     NaN       0       0  \n301262                       NaN  may-jul 2023     NaN       0       1  \n75874                        NaN  may-jul 2023     NaN       0       0  \n369953                       NaN  may-jul 2023     NaN       0       0  \n149253                       EOL  may-jul 2023     NaN       0       0  \n\n[440743 rows x 18 columns]",
      "text/html": "<div>\n<style scoped>\n    .dataframe tbody tr th:only-of-type {\n        vertical-align: middle;\n    }\n\n    .dataframe tbody tr th {\n        vertical-align: top;\n    }\n\n    .dataframe thead th {\n        text-align: right;\n    }\n</style>\n<table border=\"1\" class=\"dataframe\">\n  <thead>\n    <tr style=\"text-align: right;\">\n      <th></th>\n      <th>index</th>\n      <th>id_product</th>\n      <th>Region</th>\n      <th>Country</th>\n      <th>Site</th>\n      <th>Operations</th>\n      <th>Zone</th>\n      <th>Cluster</th>\n      <th>Reference proxy</th>\n      <th>Product  Line proxy</th>\n      <th>Division proxy</th>\n      <th>Customer Persona proxy</th>\n      <th>Strategic Product Family proxy</th>\n      <th>Product Life cycel status</th>\n      <th>Date</th>\n      <th>Month 1</th>\n      <th>Month 2</th>\n      <th>Month 3</th>\n    </tr>\n  </thead>\n  <tbody>\n    <tr>\n      <th>23512</th>\n      <td>1</td>\n      <td>1</td>\n      <td>EAJP</td>\n      <td>AU</td>\n      <td>AU_DC_Sydney</td>\n      <td>International Operations</td>\n      <td>Pacific</td>\n      <td>Australia</td>\n      <td>reference-2</td>\n      <td>Product Line-1</td>\n      <td>Division-1</td>\n      <td>Customer Segmentation-2</td>\n      <td>Strategic Product Family-1</td>\n      <td>EOL</td>\n      <td>sep-dec 2020</td>\n      <td>0</td>\n      <td>0</td>\n      <td>0</td>\n    </tr>\n    <tr>\n      <th>248701</th>\n      <td>7</td>\n      <td>7</td>\n      <td>EAJP</td>\n      <td>AU</td>\n      <td>AU_DC_Sydney</td>\n      <td>International Operations</td>\n      <td>Pacific</td>\n      <td>Australia</td>\n      <td>reference-2</td>\n      <td>Product Line-1</td>\n      <td>Division-1</td>\n      <td>Customer Segmentation-8</td>\n      <td>Strategic Product Family-1</td>\n      <td>EOL</td>\n      <td>sep-dec 2020</td>\n      <td>1</td>\n      <td>0</td>\n      <td>0</td>\n    </tr>\n    <tr>\n      <th>177623</th>\n      <td>20</td>\n      <td>20</td>\n      <td>EAJP</td>\n      <td>AU</td>\n      <td>AU_DC_Melbourne</td>\n      <td>International Operations</td>\n      <td>Pacific</td>\n      <td>Australia</td>\n      <td>reference-4</td>\n      <td>Product Line-1</td>\n      <td>Division-1</td>\n      <td>Customer Segmentation-10</td>\n      <td>Strategic Product Family-1</td>\n      <td>NaN</td>\n      <td>sep-dec 2020</td>\n      <td>2</td>\n      <td>1</td>\n      <td>9</td>\n    </tr>\n    <tr>\n      <th>208094</th>\n      <td>27</td>\n      <td>27</td>\n      <td>EAJP</td>\n      <td>AU</td>\n      <td>AU_DC_Perth</td>\n      <td>International Operations</td>\n      <td>Pacific</td>\n      <td>Australia</td>\n      <td>reference-4</td>\n      <td>Product Line-1</td>\n      <td>Division-1</td>\n      <td>Customer Segmentation-10</td>\n      <td>Strategic Product Family-1</td>\n      <td>NaN</td>\n      <td>sep-dec 2020</td>\n      <td>0</td>\n      <td>3</td>\n      <td>1</td>\n    </tr>\n    <tr>\n      <th>81837</th>\n      <td>34</td>\n      <td>34</td>\n      <td>EAJP</td>\n      <td>AU</td>\n      <td>AU_DC_Sydney</td>\n      <td>International Operations</td>\n      <td>Pacific</td>\n      <td>Australia</td>\n      <td>reference-8</td>\n      <td>Product Line-1</td>\n      <td>Division-1</td>\n      <td>Customer Segmentation-13</td>\n      <td>Strategic Product Family-1</td>\n      <td>NPI</td>\n      <td>sep-dec 2020</td>\n      <td>0</td>\n      <td>0</td>\n      <td>0</td>\n    </tr>\n    <tr>\n      <th>...</th>\n      <td>...</td>\n      <td>...</td>\n      <td>...</td>\n      <td>...</td>\n      <td>...</td>\n      <td>...</td>\n      <td>...</td>\n      <td>...</td>\n      <td>...</td>\n      <td>...</td>\n      <td>...</td>\n      <td>...</td>\n      <td>...</td>\n      <td>...</td>\n      <td>...</td>\n      <td>...</td>\n      <td>...</td>\n      <td>...</td>\n    </tr>\n    <tr>\n      <th>283407</th>\n      <td>2203686</td>\n      <td>244830</td>\n      <td>CHINA</td>\n      <td>CN</td>\n      <td>CN_DC_Wuhan</td>\n      <td>China Operations</td>\n      <td>China &amp; HK</td>\n      <td>China</td>\n      <td>reference-22404</td>\n      <td>Product Line-4</td>\n      <td>Division-3</td>\n      <td>Customer Segmentation-16</td>\n      <td>Strategic Product Family-9</td>\n      <td>NaN</td>\n      <td>may-jul 2023</td>\n      <td>NaN</td>\n      <td>0</td>\n      <td>0</td>\n    </tr>\n    <tr>\n      <th>301262</th>\n      <td>2203690</td>\n      <td>244834</td>\n      <td>CHINA</td>\n      <td>CN</td>\n      <td>CN_DC_SHD</td>\n      <td>China Operations</td>\n      <td>China &amp; HK</td>\n      <td>China</td>\n      <td>reference-4151</td>\n      <td>Product Line-3</td>\n      <td>Division-2</td>\n      <td>Customer Segmentation-16</td>\n      <td>Strategic Product Family-7</td>\n      <td>NaN</td>\n      <td>may-jul 2023</td>\n      <td>NaN</td>\n      <td>0</td>\n      <td>1</td>\n    </tr>\n    <tr>\n      <th>75874</th>\n      <td>2203695</td>\n      <td>244839</td>\n      <td>CHINA</td>\n      <td>HK</td>\n      <td>SG_DC_ASD</td>\n      <td>China Operations</td>\n      <td>China &amp; HK</td>\n      <td>Hong Kong &amp; Macao</td>\n      <td>reference-4152</td>\n      <td>Product Line-3</td>\n      <td>Division-2</td>\n      <td>Customer Segmentation-33</td>\n      <td>Strategic Product Family-7</td>\n      <td>NaN</td>\n      <td>may-jul 2023</td>\n      <td>NaN</td>\n      <td>0</td>\n      <td>0</td>\n    </tr>\n    <tr>\n      <th>369953</th>\n      <td>2203700</td>\n      <td>244844</td>\n      <td>CHINA</td>\n      <td>CN</td>\n      <td>CN_DC_Shanghai</td>\n      <td>China Operations</td>\n      <td>China &amp; HK</td>\n      <td>China</td>\n      <td>reference-22405</td>\n      <td>Product Line-4</td>\n      <td>Division-3</td>\n      <td>Customer Segmentation-3</td>\n      <td>Strategic Product Family-9</td>\n      <td>NaN</td>\n      <td>may-jul 2023</td>\n      <td>NaN</td>\n      <td>0</td>\n      <td>0</td>\n    </tr>\n    <tr>\n      <th>149253</th>\n      <td>2203711</td>\n      <td>244855</td>\n      <td>CHINA</td>\n      <td>HK</td>\n      <td>HK_DC_HongKong</td>\n      <td>China Operations</td>\n      <td>China &amp; HK</td>\n      <td>Hong Kong &amp; Macao</td>\n      <td>reference-9686</td>\n      <td>Product Line-4</td>\n      <td>Division-3</td>\n      <td>Customer Segmentation-70</td>\n      <td>Strategic Product Family-9</td>\n      <td>EOL</td>\n      <td>may-jul 2023</td>\n      <td>NaN</td>\n      <td>0</td>\n      <td>0</td>\n    </tr>\n  </tbody>\n</table>\n<p>440743 rows × 18 columns</p>\n</div>"
     },
     "execution_count": 5,
     "metadata": {},
     "output_type": "execute_result"
    }
   ],
   "source": [
    "X_set.sort_values(by=\"index\")"
   ],
   "metadata": {
    "collapsed": false,
    "ExecuteTime": {
     "end_time": "2023-12-02T23:38:01.781867500Z",
     "start_time": "2023-12-02T23:38:01.190880500Z"
    }
   },
   "id": "fc7ddb642faaf074"
  },
  {
   "cell_type": "markdown",
   "source": [
    "It seems _index_ values in `X_set` differs from _index_ values in `train_data`. We can confirm that :"
   ],
   "metadata": {
    "collapsed": false
   },
   "id": "ca888cd93e4f8a7e"
  },
  {
   "cell_type": "code",
   "execution_count": 6,
   "outputs": [
    {
     "data": {
      "text/plain": "array([], dtype=int64)"
     },
     "execution_count": 6,
     "metadata": {},
     "output_type": "execute_result"
    }
   ],
   "source": [
    "np.intersect1d(train_data[\"index\"].unique(), X_set[\"index\"].unique())"
   ],
   "metadata": {
    "collapsed": false,
    "ExecuteTime": {
     "end_time": "2023-12-02T23:38:03.690754300Z",
     "start_time": "2023-12-02T23:38:01.785848700Z"
    }
   },
   "id": "49c457d2dcc6c492"
  },
  {
   "cell_type": "markdown",
   "source": [
    "Then we can remove drop duplicates in `train_data` and concatenate it with `X_set` :"
   ],
   "metadata": {
    "collapsed": false
   },
   "id": "d74a900fb07b14f9"
  },
  {
   "cell_type": "code",
   "execution_count": 7,
   "outputs": [
    {
     "data": {
      "text/plain": "           index  id_product Region Country            Site  \\\n946355         0           0   EAJP      AU    AU_DC_Sydney   \n23512          1           1   EAJP      AU    AU_DC_Sydney   \n1222945        2           2   EAJP      AU    AU_DC_Sydney   \n888927         3           3   EAJP      AU    AU_DC_Sydney   \n229400         4           4   EAJP      AU    AU_DC_Sydney   \n...          ...         ...    ...     ...             ...   \n617716   2203708      244852  CHINA      CN     CN_DC_Wuhan   \n2607229  2203709      244853  CHINA      CN     CN_DC_Wuhan   \n651780   2203710      244854  CHINA      CN     CN_DC_Wuhan   \n149253   2203711      244855  CHINA      HK  HK_DC_HongKong   \n1124213  2203712      244856  CHINA      HK  HK_DC_HongKong   \n\n                       Operations        Zone            Cluster  \\\n946355   International Operations     Pacific          Australia   \n23512    International Operations     Pacific          Australia   \n1222945  International Operations     Pacific          Australia   \n888927   International Operations     Pacific          Australia   \n229400   International Operations     Pacific          Australia   \n...                           ...         ...                ...   \n617716           China Operations  China & HK              China   \n2607229          China Operations  China & HK              China   \n651780           China Operations  China & HK              China   \n149253           China Operations  China & HK  Hong Kong & Macao   \n1124213          China Operations  China & HK  Hong Kong & Macao   \n\n         Reference proxy Product  Line proxy Division proxy  \\\n946355       reference-1      Product Line-1     Division-1   \n23512        reference-2      Product Line-1     Division-1   \n1222945      reference-2      Product Line-1     Division-1   \n888927       reference-2      Product Line-1     Division-1   \n229400       reference-2      Product Line-1     Division-1   \n...                  ...                 ...            ...   \n617716   reference-22406      Product Line-4     Division-3   \n2607229  reference-22406      Product Line-4     Division-3   \n651780   reference-22406      Product Line-4     Division-3   \n149253    reference-9686      Product Line-4     Division-3   \n1124213   reference-9687      Product Line-4     Division-3   \n\n           Customer Persona proxy Strategic Product Family proxy  \\\n946355    Customer Segmentation-1     Strategic Product Family-1   \n23512     Customer Segmentation-2     Strategic Product Family-1   \n1222945   Customer Segmentation-3     Strategic Product Family-1   \n888927    Customer Segmentation-4     Strategic Product Family-1   \n229400    Customer Segmentation-5     Strategic Product Family-1   \n...                           ...                            ...   \n617716    Customer Segmentation-3     Strategic Product Family-9   \n2607229  Customer Segmentation-13     Strategic Product Family-9   \n651780    Customer Segmentation-4     Strategic Product Family-9   \n149253   Customer Segmentation-70     Strategic Product Family-9   \n1124213  Customer Segmentation-70     Strategic Product Family-9   \n\n        Product Life cycel status          Date Month 1 Month 2 Month 3  \\\n946355                        NaN  sep-dec 2020       0       0       0   \n23512                         EOL  sep-dec 2020       0       0       0   \n1222945                       EOL  sep-dec 2020       0       0       0   \n888927                        EOL  sep-dec 2020       0       0       0   \n229400                        EOL  sep-dec 2020       0       0       0   \n...                           ...           ...     ...     ...     ...   \n617716                        NaN  may-jul 2023     NaN       0       5   \n2607229                       NaN  may-jul 2023     NaN      50     120   \n651780                        NaN  may-jul 2023     NaN      85     210   \n149253                        EOL  may-jul 2023     NaN       0       0   \n1124213                       EOL  may-jul 2023     NaN       0       0   \n\n        Month 4  \n946355        0  \n23512       NaN  \n1222945       0  \n888927        0  \n229400        0  \n...         ...  \n617716        0  \n2607229      50  \n651780        0  \n149253      NaN  \n1124213       0  \n\n[2203713 rows x 19 columns]",
      "text/html": "<div>\n<style scoped>\n    .dataframe tbody tr th:only-of-type {\n        vertical-align: middle;\n    }\n\n    .dataframe tbody tr th {\n        vertical-align: top;\n    }\n\n    .dataframe thead th {\n        text-align: right;\n    }\n</style>\n<table border=\"1\" class=\"dataframe\">\n  <thead>\n    <tr style=\"text-align: right;\">\n      <th></th>\n      <th>index</th>\n      <th>id_product</th>\n      <th>Region</th>\n      <th>Country</th>\n      <th>Site</th>\n      <th>Operations</th>\n      <th>Zone</th>\n      <th>Cluster</th>\n      <th>Reference proxy</th>\n      <th>Product  Line proxy</th>\n      <th>Division proxy</th>\n      <th>Customer Persona proxy</th>\n      <th>Strategic Product Family proxy</th>\n      <th>Product Life cycel status</th>\n      <th>Date</th>\n      <th>Month 1</th>\n      <th>Month 2</th>\n      <th>Month 3</th>\n      <th>Month 4</th>\n    </tr>\n  </thead>\n  <tbody>\n    <tr>\n      <th>946355</th>\n      <td>0</td>\n      <td>0</td>\n      <td>EAJP</td>\n      <td>AU</td>\n      <td>AU_DC_Sydney</td>\n      <td>International Operations</td>\n      <td>Pacific</td>\n      <td>Australia</td>\n      <td>reference-1</td>\n      <td>Product Line-1</td>\n      <td>Division-1</td>\n      <td>Customer Segmentation-1</td>\n      <td>Strategic Product Family-1</td>\n      <td>NaN</td>\n      <td>sep-dec 2020</td>\n      <td>0</td>\n      <td>0</td>\n      <td>0</td>\n      <td>0</td>\n    </tr>\n    <tr>\n      <th>23512</th>\n      <td>1</td>\n      <td>1</td>\n      <td>EAJP</td>\n      <td>AU</td>\n      <td>AU_DC_Sydney</td>\n      <td>International Operations</td>\n      <td>Pacific</td>\n      <td>Australia</td>\n      <td>reference-2</td>\n      <td>Product Line-1</td>\n      <td>Division-1</td>\n      <td>Customer Segmentation-2</td>\n      <td>Strategic Product Family-1</td>\n      <td>EOL</td>\n      <td>sep-dec 2020</td>\n      <td>0</td>\n      <td>0</td>\n      <td>0</td>\n      <td>NaN</td>\n    </tr>\n    <tr>\n      <th>1222945</th>\n      <td>2</td>\n      <td>2</td>\n      <td>EAJP</td>\n      <td>AU</td>\n      <td>AU_DC_Sydney</td>\n      <td>International Operations</td>\n      <td>Pacific</td>\n      <td>Australia</td>\n      <td>reference-2</td>\n      <td>Product Line-1</td>\n      <td>Division-1</td>\n      <td>Customer Segmentation-3</td>\n      <td>Strategic Product Family-1</td>\n      <td>EOL</td>\n      <td>sep-dec 2020</td>\n      <td>0</td>\n      <td>0</td>\n      <td>0</td>\n      <td>0</td>\n    </tr>\n    <tr>\n      <th>888927</th>\n      <td>3</td>\n      <td>3</td>\n      <td>EAJP</td>\n      <td>AU</td>\n      <td>AU_DC_Sydney</td>\n      <td>International Operations</td>\n      <td>Pacific</td>\n      <td>Australia</td>\n      <td>reference-2</td>\n      <td>Product Line-1</td>\n      <td>Division-1</td>\n      <td>Customer Segmentation-4</td>\n      <td>Strategic Product Family-1</td>\n      <td>EOL</td>\n      <td>sep-dec 2020</td>\n      <td>0</td>\n      <td>0</td>\n      <td>0</td>\n      <td>0</td>\n    </tr>\n    <tr>\n      <th>229400</th>\n      <td>4</td>\n      <td>4</td>\n      <td>EAJP</td>\n      <td>AU</td>\n      <td>AU_DC_Sydney</td>\n      <td>International Operations</td>\n      <td>Pacific</td>\n      <td>Australia</td>\n      <td>reference-2</td>\n      <td>Product Line-1</td>\n      <td>Division-1</td>\n      <td>Customer Segmentation-5</td>\n      <td>Strategic Product Family-1</td>\n      <td>EOL</td>\n      <td>sep-dec 2020</td>\n      <td>0</td>\n      <td>0</td>\n      <td>0</td>\n      <td>0</td>\n    </tr>\n    <tr>\n      <th>...</th>\n      <td>...</td>\n      <td>...</td>\n      <td>...</td>\n      <td>...</td>\n      <td>...</td>\n      <td>...</td>\n      <td>...</td>\n      <td>...</td>\n      <td>...</td>\n      <td>...</td>\n      <td>...</td>\n      <td>...</td>\n      <td>...</td>\n      <td>...</td>\n      <td>...</td>\n      <td>...</td>\n      <td>...</td>\n      <td>...</td>\n      <td>...</td>\n    </tr>\n    <tr>\n      <th>617716</th>\n      <td>2203708</td>\n      <td>244852</td>\n      <td>CHINA</td>\n      <td>CN</td>\n      <td>CN_DC_Wuhan</td>\n      <td>China Operations</td>\n      <td>China &amp; HK</td>\n      <td>China</td>\n      <td>reference-22406</td>\n      <td>Product Line-4</td>\n      <td>Division-3</td>\n      <td>Customer Segmentation-3</td>\n      <td>Strategic Product Family-9</td>\n      <td>NaN</td>\n      <td>may-jul 2023</td>\n      <td>NaN</td>\n      <td>0</td>\n      <td>5</td>\n      <td>0</td>\n    </tr>\n    <tr>\n      <th>2607229</th>\n      <td>2203709</td>\n      <td>244853</td>\n      <td>CHINA</td>\n      <td>CN</td>\n      <td>CN_DC_Wuhan</td>\n      <td>China Operations</td>\n      <td>China &amp; HK</td>\n      <td>China</td>\n      <td>reference-22406</td>\n      <td>Product Line-4</td>\n      <td>Division-3</td>\n      <td>Customer Segmentation-13</td>\n      <td>Strategic Product Family-9</td>\n      <td>NaN</td>\n      <td>may-jul 2023</td>\n      <td>NaN</td>\n      <td>50</td>\n      <td>120</td>\n      <td>50</td>\n    </tr>\n    <tr>\n      <th>651780</th>\n      <td>2203710</td>\n      <td>244854</td>\n      <td>CHINA</td>\n      <td>CN</td>\n      <td>CN_DC_Wuhan</td>\n      <td>China Operations</td>\n      <td>China &amp; HK</td>\n      <td>China</td>\n      <td>reference-22406</td>\n      <td>Product Line-4</td>\n      <td>Division-3</td>\n      <td>Customer Segmentation-4</td>\n      <td>Strategic Product Family-9</td>\n      <td>NaN</td>\n      <td>may-jul 2023</td>\n      <td>NaN</td>\n      <td>85</td>\n      <td>210</td>\n      <td>0</td>\n    </tr>\n    <tr>\n      <th>149253</th>\n      <td>2203711</td>\n      <td>244855</td>\n      <td>CHINA</td>\n      <td>HK</td>\n      <td>HK_DC_HongKong</td>\n      <td>China Operations</td>\n      <td>China &amp; HK</td>\n      <td>Hong Kong &amp; Macao</td>\n      <td>reference-9686</td>\n      <td>Product Line-4</td>\n      <td>Division-3</td>\n      <td>Customer Segmentation-70</td>\n      <td>Strategic Product Family-9</td>\n      <td>EOL</td>\n      <td>may-jul 2023</td>\n      <td>NaN</td>\n      <td>0</td>\n      <td>0</td>\n      <td>NaN</td>\n    </tr>\n    <tr>\n      <th>1124213</th>\n      <td>2203712</td>\n      <td>244856</td>\n      <td>CHINA</td>\n      <td>HK</td>\n      <td>HK_DC_HongKong</td>\n      <td>China Operations</td>\n      <td>China &amp; HK</td>\n      <td>Hong Kong &amp; Macao</td>\n      <td>reference-9687</td>\n      <td>Product Line-4</td>\n      <td>Division-3</td>\n      <td>Customer Segmentation-70</td>\n      <td>Strategic Product Family-9</td>\n      <td>EOL</td>\n      <td>may-jul 2023</td>\n      <td>NaN</td>\n      <td>0</td>\n      <td>0</td>\n      <td>0</td>\n    </tr>\n  </tbody>\n</table>\n<p>2203713 rows × 19 columns</p>\n</div>"
     },
     "execution_count": 7,
     "metadata": {},
     "output_type": "execute_result"
    }
   ],
   "source": [
    "completed_data = pd.concat([train_data.drop_duplicates(\"index\"), X_set])\n",
    "\n",
    "completed_data.sort_values(by=\"index\")"
   ],
   "metadata": {
    "collapsed": false,
    "ExecuteTime": {
     "end_time": "2023-12-02T23:38:12.657106300Z",
     "start_time": "2023-12-02T23:38:03.695740900Z"
    }
   },
   "id": "90da12feb4eb448e"
  },
  {
   "cell_type": "markdown",
   "source": [
    "We can now take a look at lines sharing the same _id_product_ :"
   ],
   "metadata": {
    "collapsed": false
   },
   "id": "a0a8028eb4918045"
  },
  {
   "cell_type": "code",
   "execution_count": 8,
   "outputs": [
    {
     "data": {
      "text/plain": "                 index  id_product  Region  Country  Site  Operations  Zone  \\\nReference proxy                                                               \nreference-1          9           9       9        9     9           9     9   \nreference-10        54          54      54       54    54          54    54   \nreference-100       27          27      27       27    27          27    27   \nreference-1000     144         144     144      144   144         144   144   \nreference-10000      9           9       9        9     9           9     9   \n...                ...         ...     ...      ...   ...         ...   ...   \nreference-9995       9           9       9        9     9           9     9   \nreference-9996       9           9       9        9     9           9     9   \nreference-9997       9           9       9        9     9           9     9   \nreference-9998       9           9       9        9     9           9     9   \nreference-9999      18          18      18       18    18          18    18   \n\n                 Cluster  Product  Line proxy  Division proxy  \\\nReference proxy                                                 \nreference-1            9                    9               9   \nreference-10          54                   54              54   \nreference-100         27                   27              27   \nreference-1000       144                  144             144   \nreference-10000        9                    9               9   \n...                  ...                  ...             ...   \nreference-9995         9                    9               9   \nreference-9996         9                    9               9   \nreference-9997         9                    9               9   \nreference-9998         9                    9               9   \nreference-9999        18                   18              18   \n\n                 Customer Persona proxy  Strategic Product Family proxy  \\\nReference proxy                                                           \nreference-1                           9                               9   \nreference-10                         54                              54   \nreference-100                        27                              27   \nreference-1000                      144                             144   \nreference-10000                       9                               9   \n...                                 ...                             ...   \nreference-9995                        9                               9   \nreference-9996                        9                               9   \nreference-9997                        9                               9   \nreference-9998                        9                               9   \nreference-9999                       18                              18   \n\n                 Product Life cycel status  Date  Month 1  Month 2  Month 3  \\\nReference proxy                                                               \nreference-1                              0     9        8        9        9   \nreference-10                             0    54       48       54       54   \nreference-100                           27    27       24       27       27   \nreference-1000                           0   144      128      144      144   \nreference-10000                          0     9        8        9        9   \n...                                    ...   ...      ...      ...      ...   \nreference-9995                           9     9        8        9        9   \nreference-9996                           9     9        8        9        9   \nreference-9997                           9     9        8        9        9   \nreference-9998                           9     9        8        9        9   \nreference-9999                           0    18       16       18       18   \n\n                 Month 4  \nReference proxy           \nreference-1            9  \nreference-10          46  \nreference-100         19  \nreference-1000       117  \nreference-10000        9  \n...                  ...  \nreference-9995         8  \nreference-9996         7  \nreference-9997         6  \nreference-9998         7  \nreference-9999        11  \n\n[22406 rows x 18 columns]",
      "text/html": "<div>\n<style scoped>\n    .dataframe tbody tr th:only-of-type {\n        vertical-align: middle;\n    }\n\n    .dataframe tbody tr th {\n        vertical-align: top;\n    }\n\n    .dataframe thead th {\n        text-align: right;\n    }\n</style>\n<table border=\"1\" class=\"dataframe\">\n  <thead>\n    <tr style=\"text-align: right;\">\n      <th></th>\n      <th>index</th>\n      <th>id_product</th>\n      <th>Region</th>\n      <th>Country</th>\n      <th>Site</th>\n      <th>Operations</th>\n      <th>Zone</th>\n      <th>Cluster</th>\n      <th>Product  Line proxy</th>\n      <th>Division proxy</th>\n      <th>Customer Persona proxy</th>\n      <th>Strategic Product Family proxy</th>\n      <th>Product Life cycel status</th>\n      <th>Date</th>\n      <th>Month 1</th>\n      <th>Month 2</th>\n      <th>Month 3</th>\n      <th>Month 4</th>\n    </tr>\n    <tr>\n      <th>Reference proxy</th>\n      <th></th>\n      <th></th>\n      <th></th>\n      <th></th>\n      <th></th>\n      <th></th>\n      <th></th>\n      <th></th>\n      <th></th>\n      <th></th>\n      <th></th>\n      <th></th>\n      <th></th>\n      <th></th>\n      <th></th>\n      <th></th>\n      <th></th>\n      <th></th>\n    </tr>\n  </thead>\n  <tbody>\n    <tr>\n      <th>reference-1</th>\n      <td>9</td>\n      <td>9</td>\n      <td>9</td>\n      <td>9</td>\n      <td>9</td>\n      <td>9</td>\n      <td>9</td>\n      <td>9</td>\n      <td>9</td>\n      <td>9</td>\n      <td>9</td>\n      <td>9</td>\n      <td>0</td>\n      <td>9</td>\n      <td>8</td>\n      <td>9</td>\n      <td>9</td>\n      <td>9</td>\n    </tr>\n    <tr>\n      <th>reference-10</th>\n      <td>54</td>\n      <td>54</td>\n      <td>54</td>\n      <td>54</td>\n      <td>54</td>\n      <td>54</td>\n      <td>54</td>\n      <td>54</td>\n      <td>54</td>\n      <td>54</td>\n      <td>54</td>\n      <td>54</td>\n      <td>0</td>\n      <td>54</td>\n      <td>48</td>\n      <td>54</td>\n      <td>54</td>\n      <td>46</td>\n    </tr>\n    <tr>\n      <th>reference-100</th>\n      <td>27</td>\n      <td>27</td>\n      <td>27</td>\n      <td>27</td>\n      <td>27</td>\n      <td>27</td>\n      <td>27</td>\n      <td>27</td>\n      <td>27</td>\n      <td>27</td>\n      <td>27</td>\n      <td>27</td>\n      <td>27</td>\n      <td>27</td>\n      <td>24</td>\n      <td>27</td>\n      <td>27</td>\n      <td>19</td>\n    </tr>\n    <tr>\n      <th>reference-1000</th>\n      <td>144</td>\n      <td>144</td>\n      <td>144</td>\n      <td>144</td>\n      <td>144</td>\n      <td>144</td>\n      <td>144</td>\n      <td>144</td>\n      <td>144</td>\n      <td>144</td>\n      <td>144</td>\n      <td>144</td>\n      <td>0</td>\n      <td>144</td>\n      <td>128</td>\n      <td>144</td>\n      <td>144</td>\n      <td>117</td>\n    </tr>\n    <tr>\n      <th>reference-10000</th>\n      <td>9</td>\n      <td>9</td>\n      <td>9</td>\n      <td>9</td>\n      <td>9</td>\n      <td>9</td>\n      <td>9</td>\n      <td>9</td>\n      <td>9</td>\n      <td>9</td>\n      <td>9</td>\n      <td>9</td>\n      <td>0</td>\n      <td>9</td>\n      <td>8</td>\n      <td>9</td>\n      <td>9</td>\n      <td>9</td>\n    </tr>\n    <tr>\n      <th>...</th>\n      <td>...</td>\n      <td>...</td>\n      <td>...</td>\n      <td>...</td>\n      <td>...</td>\n      <td>...</td>\n      <td>...</td>\n      <td>...</td>\n      <td>...</td>\n      <td>...</td>\n      <td>...</td>\n      <td>...</td>\n      <td>...</td>\n      <td>...</td>\n      <td>...</td>\n      <td>...</td>\n      <td>...</td>\n      <td>...</td>\n    </tr>\n    <tr>\n      <th>reference-9995</th>\n      <td>9</td>\n      <td>9</td>\n      <td>9</td>\n      <td>9</td>\n      <td>9</td>\n      <td>9</td>\n      <td>9</td>\n      <td>9</td>\n      <td>9</td>\n      <td>9</td>\n      <td>9</td>\n      <td>9</td>\n      <td>9</td>\n      <td>9</td>\n      <td>8</td>\n      <td>9</td>\n      <td>9</td>\n      <td>8</td>\n    </tr>\n    <tr>\n      <th>reference-9996</th>\n      <td>9</td>\n      <td>9</td>\n      <td>9</td>\n      <td>9</td>\n      <td>9</td>\n      <td>9</td>\n      <td>9</td>\n      <td>9</td>\n      <td>9</td>\n      <td>9</td>\n      <td>9</td>\n      <td>9</td>\n      <td>9</td>\n      <td>9</td>\n      <td>8</td>\n      <td>9</td>\n      <td>9</td>\n      <td>7</td>\n    </tr>\n    <tr>\n      <th>reference-9997</th>\n      <td>9</td>\n      <td>9</td>\n      <td>9</td>\n      <td>9</td>\n      <td>9</td>\n      <td>9</td>\n      <td>9</td>\n      <td>9</td>\n      <td>9</td>\n      <td>9</td>\n      <td>9</td>\n      <td>9</td>\n      <td>9</td>\n      <td>9</td>\n      <td>8</td>\n      <td>9</td>\n      <td>9</td>\n      <td>6</td>\n    </tr>\n    <tr>\n      <th>reference-9998</th>\n      <td>9</td>\n      <td>9</td>\n      <td>9</td>\n      <td>9</td>\n      <td>9</td>\n      <td>9</td>\n      <td>9</td>\n      <td>9</td>\n      <td>9</td>\n      <td>9</td>\n      <td>9</td>\n      <td>9</td>\n      <td>9</td>\n      <td>9</td>\n      <td>8</td>\n      <td>9</td>\n      <td>9</td>\n      <td>7</td>\n    </tr>\n    <tr>\n      <th>reference-9999</th>\n      <td>18</td>\n      <td>18</td>\n      <td>18</td>\n      <td>18</td>\n      <td>18</td>\n      <td>18</td>\n      <td>18</td>\n      <td>18</td>\n      <td>18</td>\n      <td>18</td>\n      <td>18</td>\n      <td>18</td>\n      <td>0</td>\n      <td>18</td>\n      <td>16</td>\n      <td>18</td>\n      <td>18</td>\n      <td>11</td>\n    </tr>\n  </tbody>\n</table>\n<p>22406 rows × 18 columns</p>\n</div>"
     },
     "execution_count": 8,
     "metadata": {},
     "output_type": "execute_result"
    }
   ],
   "source": [
    "completed_data.groupby(\"Reference proxy\").count()"
   ],
   "metadata": {
    "collapsed": false,
    "ExecuteTime": {
     "end_time": "2023-12-02T23:38:14.852604200Z",
     "start_time": "2023-12-02T23:38:12.666087300Z"
    }
   },
   "id": "ac258e40415e0dfe"
  },
  {
   "cell_type": "markdown",
   "source": [
    "We see that many lines correspond to the same product at different quarters, so we'll aggregate that information in one-line."
   ],
   "metadata": {
    "collapsed": false
   },
   "id": "ed03c83451aeaa08"
  },
  {
   "cell_type": "code",
   "execution_count": 9,
   "outputs": [
    {
     "data": {
      "text/plain": "Empty DataFrame\nColumns: []\nIndex: []",
      "text/html": "<div>\n<style scoped>\n    .dataframe tbody tr th:only-of-type {\n        vertical-align: middle;\n    }\n\n    .dataframe tbody tr th {\n        vertical-align: top;\n    }\n\n    .dataframe thead tr th {\n        text-align: left;\n    }\n</style>\n<table border=\"1\" class=\"dataframe\">\n  <thead>\n  </thead>\n  <tbody>\n  </tbody>\n</table>\n</div>"
     },
     "execution_count": 9,
     "metadata": {},
     "output_type": "execute_result"
    }
   ],
   "source": [
    "completed_data.groupby(\"id_product\").aggregate([])"
   ],
   "metadata": {
    "collapsed": false,
    "ExecuteTime": {
     "end_time": "2023-12-02T23:38:15.357257100Z",
     "start_time": "2023-12-02T23:38:14.862580Z"
    }
   },
   "id": "d669a0132e3f59e2"
  },
  {
   "cell_type": "code",
   "execution_count": 10,
   "outputs": [
    {
     "data": {
      "text/plain": "index\n490548     1\n1035647    1\n691029     1\n229686     1\n1619434    1\n          ..\n571112     1\n1477185    1\n917892     1\n1540060    1\n181981     1\nName: count, Length: 440743, dtype: int64"
     },
     "execution_count": 10,
     "metadata": {},
     "output_type": "execute_result"
    }
   ],
   "source": [
    "X_set[\"index\"].value_counts()"
   ],
   "metadata": {
    "collapsed": false,
    "ExecuteTime": {
     "end_time": "2023-12-02T23:38:15.598609300Z",
     "start_time": "2023-12-02T23:38:15.343294700Z"
    }
   },
   "id": "63bec9a7d1994d71"
  },
  {
   "cell_type": "code",
   "execution_count": 44,
   "outputs": [
    {
     "data": {
      "text/plain": "array([], dtype=int64)"
     },
     "execution_count": 44,
     "metadata": {},
     "output_type": "execute_result"
    }
   ],
   "source": [],
   "metadata": {
    "collapsed": false,
    "ExecuteTime": {
     "end_time": "2023-12-02T13:27:25.022156400Z",
     "start_time": "2023-12-02T13:27:23.854280100Z"
    }
   },
   "id": "b9f2d1dd70ed0754"
  },
  {
   "cell_type": "code",
   "execution_count": 45,
   "outputs": [
    {
     "data": {
      "text/plain": "          index  id_product  Region Country                   Site  \\\n0        645874      156160  EUROPE      DE           NL_DC_Venray   \n1        469488      224631   CHINA      CN         CN_DC_Shanghai   \n2        348904      104047  EUROPE      GB              NL_DC_HLD   \n3       1725822       11823    EAJP      AU            AU_DC_Perth   \n4        404781      159924  EUROPE      ES              NL_DC_HLD   \n...         ...         ...     ...     ...                    ...   \n440738   849490      114919  EUROPE      IT          IT_DC_Venaria   \n440739  1199858      220430   CHINA      CN             CN_MF_SSPA   \n440740  1007643       28215    EAJP      AU         AU_DC_Brisbane   \n440741  1647728      178586  EUROPE      PL  HU_DC_CEELog_Budapest   \n440742   181981      181981  EUROPE      NL           NL_DC_Venray   \n\n                      Operations            Zone                Cluster  \\\n0              Europe Operations            DACH                Germany   \n1               China Operations      China & HK                  China   \n2              Europe Operations  UK and Ireland         United Kingdom   \n3       International Operations         Pacific              Australia   \n4              Europe Operations          Iberia                  Spain   \n...                          ...             ...                    ...   \n440738         Europe Operations           Italy                  Italy   \n440739          China Operations      China & HK                  China   \n440740  International Operations         Pacific              Australia   \n440741         Europe Operations            CEEI  Middle Eastern Europe   \n440742         Europe Operations            BeNe            Netherlands   \n\n        Reference proxy Product  Line proxy Division proxy  \\\n0       reference-13523      Product Line-4     Division-3   \n1       reference-12778      Product Line-4     Division-3   \n2        reference-3513      Product Line-3     Division-2   \n3         reference-672      Product Line-1     Division-1   \n4        reference-3496      Product Line-3     Division-2   \n...                 ...                 ...            ...   \n440738   reference-6671      Product Line-4     Division-3   \n440739  reference-19181      Product Line-5     Division-3   \n440740   reference-1966      Product Line-1     Division-1   \n440741   reference-7364      Product Line-4     Division-3   \n440742   reference-7876      Product Line-4     Division-3   \n\n          Customer Persona proxy Strategic Product Family proxy  \\\n0        Customer Segmentation-3    Strategic Product Family-12   \n1       Customer Segmentation-14     Strategic Product Family-9   \n2       Customer Segmentation-23     Strategic Product Family-7   \n3       Customer Segmentation-11     Strategic Product Family-3   \n4       Customer Segmentation-14     Strategic Product Family-7   \n...                          ...                            ...   \n440738  Customer Segmentation-15     Strategic Product Family-9   \n440739  Customer Segmentation-13    Strategic Product Family-15   \n440740   Customer Segmentation-6     Strategic Product Family-4   \n440741  Customer Segmentation-14     Strategic Product Family-9   \n440742  Customer Segmentation-17     Strategic Product Family-9   \n\n       Product Life cycel status          Date Month 1 Month 2 Month 3 Month 4  \n0                            NaN  may-aug 2021       0       0       0       0  \n1                            NaN  jan-apr 2021       0       1       0       0  \n2                            NaN  jan-apr 2021       0       2       0       0  \n3                            NaN  jan-apr 2023       0       0       0       0  \n4                            NaN  jan-apr 2021       0       0       0       0  \n...                          ...           ...     ...     ...     ...     ...  \n440738                       NaN  sep-dec 2021       0       2       0     NaN  \n440739                       NaN  jan-apr 2022       0       0       0     NaN  \n440740                       NaN  jan-apr 2022       0       0       0     NaN  \n440741                       NaN  sep-dec 2022       2       0       0     NaN  \n440742                       NaN  sep-dec 2020       0       0       0     NaN  \n\n[3614089 rows x 19 columns]",
      "text/html": "<div>\n<style scoped>\n    .dataframe tbody tr th:only-of-type {\n        vertical-align: middle;\n    }\n\n    .dataframe tbody tr th {\n        vertical-align: top;\n    }\n\n    .dataframe thead th {\n        text-align: right;\n    }\n</style>\n<table border=\"1\" class=\"dataframe\">\n  <thead>\n    <tr style=\"text-align: right;\">\n      <th></th>\n      <th>index</th>\n      <th>id_product</th>\n      <th>Region</th>\n      <th>Country</th>\n      <th>Site</th>\n      <th>Operations</th>\n      <th>Zone</th>\n      <th>Cluster</th>\n      <th>Reference proxy</th>\n      <th>Product  Line proxy</th>\n      <th>Division proxy</th>\n      <th>Customer Persona proxy</th>\n      <th>Strategic Product Family proxy</th>\n      <th>Product Life cycel status</th>\n      <th>Date</th>\n      <th>Month 1</th>\n      <th>Month 2</th>\n      <th>Month 3</th>\n      <th>Month 4</th>\n    </tr>\n  </thead>\n  <tbody>\n    <tr>\n      <th>0</th>\n      <td>645874</td>\n      <td>156160</td>\n      <td>EUROPE</td>\n      <td>DE</td>\n      <td>NL_DC_Venray</td>\n      <td>Europe Operations</td>\n      <td>DACH</td>\n      <td>Germany</td>\n      <td>reference-13523</td>\n      <td>Product Line-4</td>\n      <td>Division-3</td>\n      <td>Customer Segmentation-3</td>\n      <td>Strategic Product Family-12</td>\n      <td>NaN</td>\n      <td>may-aug 2021</td>\n      <td>0</td>\n      <td>0</td>\n      <td>0</td>\n      <td>0</td>\n    </tr>\n    <tr>\n      <th>1</th>\n      <td>469488</td>\n      <td>224631</td>\n      <td>CHINA</td>\n      <td>CN</td>\n      <td>CN_DC_Shanghai</td>\n      <td>China Operations</td>\n      <td>China &amp; HK</td>\n      <td>China</td>\n      <td>reference-12778</td>\n      <td>Product Line-4</td>\n      <td>Division-3</td>\n      <td>Customer Segmentation-14</td>\n      <td>Strategic Product Family-9</td>\n      <td>NaN</td>\n      <td>jan-apr 2021</td>\n      <td>0</td>\n      <td>1</td>\n      <td>0</td>\n      <td>0</td>\n    </tr>\n    <tr>\n      <th>2</th>\n      <td>348904</td>\n      <td>104047</td>\n      <td>EUROPE</td>\n      <td>GB</td>\n      <td>NL_DC_HLD</td>\n      <td>Europe Operations</td>\n      <td>UK and Ireland</td>\n      <td>United Kingdom</td>\n      <td>reference-3513</td>\n      <td>Product Line-3</td>\n      <td>Division-2</td>\n      <td>Customer Segmentation-23</td>\n      <td>Strategic Product Family-7</td>\n      <td>NaN</td>\n      <td>jan-apr 2021</td>\n      <td>0</td>\n      <td>2</td>\n      <td>0</td>\n      <td>0</td>\n    </tr>\n    <tr>\n      <th>3</th>\n      <td>1725822</td>\n      <td>11823</td>\n      <td>EAJP</td>\n      <td>AU</td>\n      <td>AU_DC_Perth</td>\n      <td>International Operations</td>\n      <td>Pacific</td>\n      <td>Australia</td>\n      <td>reference-672</td>\n      <td>Product Line-1</td>\n      <td>Division-1</td>\n      <td>Customer Segmentation-11</td>\n      <td>Strategic Product Family-3</td>\n      <td>NaN</td>\n      <td>jan-apr 2023</td>\n      <td>0</td>\n      <td>0</td>\n      <td>0</td>\n      <td>0</td>\n    </tr>\n    <tr>\n      <th>4</th>\n      <td>404781</td>\n      <td>159924</td>\n      <td>EUROPE</td>\n      <td>ES</td>\n      <td>NL_DC_HLD</td>\n      <td>Europe Operations</td>\n      <td>Iberia</td>\n      <td>Spain</td>\n      <td>reference-3496</td>\n      <td>Product Line-3</td>\n      <td>Division-2</td>\n      <td>Customer Segmentation-14</td>\n      <td>Strategic Product Family-7</td>\n      <td>NaN</td>\n      <td>jan-apr 2021</td>\n      <td>0</td>\n      <td>0</td>\n      <td>0</td>\n      <td>0</td>\n    </tr>\n    <tr>\n      <th>...</th>\n      <td>...</td>\n      <td>...</td>\n      <td>...</td>\n      <td>...</td>\n      <td>...</td>\n      <td>...</td>\n      <td>...</td>\n      <td>...</td>\n      <td>...</td>\n      <td>...</td>\n      <td>...</td>\n      <td>...</td>\n      <td>...</td>\n      <td>...</td>\n      <td>...</td>\n      <td>...</td>\n      <td>...</td>\n      <td>...</td>\n      <td>...</td>\n    </tr>\n    <tr>\n      <th>440738</th>\n      <td>849490</td>\n      <td>114919</td>\n      <td>EUROPE</td>\n      <td>IT</td>\n      <td>IT_DC_Venaria</td>\n      <td>Europe Operations</td>\n      <td>Italy</td>\n      <td>Italy</td>\n      <td>reference-6671</td>\n      <td>Product Line-4</td>\n      <td>Division-3</td>\n      <td>Customer Segmentation-15</td>\n      <td>Strategic Product Family-9</td>\n      <td>NaN</td>\n      <td>sep-dec 2021</td>\n      <td>0</td>\n      <td>2</td>\n      <td>0</td>\n      <td>NaN</td>\n    </tr>\n    <tr>\n      <th>440739</th>\n      <td>1199858</td>\n      <td>220430</td>\n      <td>CHINA</td>\n      <td>CN</td>\n      <td>CN_MF_SSPA</td>\n      <td>China Operations</td>\n      <td>China &amp; HK</td>\n      <td>China</td>\n      <td>reference-19181</td>\n      <td>Product Line-5</td>\n      <td>Division-3</td>\n      <td>Customer Segmentation-13</td>\n      <td>Strategic Product Family-15</td>\n      <td>NaN</td>\n      <td>jan-apr 2022</td>\n      <td>0</td>\n      <td>0</td>\n      <td>0</td>\n      <td>NaN</td>\n    </tr>\n    <tr>\n      <th>440740</th>\n      <td>1007643</td>\n      <td>28215</td>\n      <td>EAJP</td>\n      <td>AU</td>\n      <td>AU_DC_Brisbane</td>\n      <td>International Operations</td>\n      <td>Pacific</td>\n      <td>Australia</td>\n      <td>reference-1966</td>\n      <td>Product Line-1</td>\n      <td>Division-1</td>\n      <td>Customer Segmentation-6</td>\n      <td>Strategic Product Family-4</td>\n      <td>NaN</td>\n      <td>jan-apr 2022</td>\n      <td>0</td>\n      <td>0</td>\n      <td>0</td>\n      <td>NaN</td>\n    </tr>\n    <tr>\n      <th>440741</th>\n      <td>1647728</td>\n      <td>178586</td>\n      <td>EUROPE</td>\n      <td>PL</td>\n      <td>HU_DC_CEELog_Budapest</td>\n      <td>Europe Operations</td>\n      <td>CEEI</td>\n      <td>Middle Eastern Europe</td>\n      <td>reference-7364</td>\n      <td>Product Line-4</td>\n      <td>Division-3</td>\n      <td>Customer Segmentation-14</td>\n      <td>Strategic Product Family-9</td>\n      <td>NaN</td>\n      <td>sep-dec 2022</td>\n      <td>2</td>\n      <td>0</td>\n      <td>0</td>\n      <td>NaN</td>\n    </tr>\n    <tr>\n      <th>440742</th>\n      <td>181981</td>\n      <td>181981</td>\n      <td>EUROPE</td>\n      <td>NL</td>\n      <td>NL_DC_Venray</td>\n      <td>Europe Operations</td>\n      <td>BeNe</td>\n      <td>Netherlands</td>\n      <td>reference-7876</td>\n      <td>Product Line-4</td>\n      <td>Division-3</td>\n      <td>Customer Segmentation-17</td>\n      <td>Strategic Product Family-9</td>\n      <td>NaN</td>\n      <td>sep-dec 2020</td>\n      <td>0</td>\n      <td>0</td>\n      <td>0</td>\n      <td>NaN</td>\n    </tr>\n  </tbody>\n</table>\n<p>3614089 rows × 19 columns</p>\n</div>"
     },
     "execution_count": 45,
     "metadata": {},
     "output_type": "execute_result"
    }
   ],
   "source": [
    "full_set = pd.concat([train_data, X_set])\n",
    "full_set"
   ],
   "metadata": {
    "collapsed": false,
    "ExecuteTime": {
     "end_time": "2023-12-02T13:27:55.430203700Z",
     "start_time": "2023-12-02T13:27:52.085429600Z"
    }
   },
   "id": "6b2d8dd30f1d5eb0"
  },
  {
   "cell_type": "code",
   "execution_count": null,
   "outputs": [],
   "source": [],
   "metadata": {
    "collapsed": false
   },
   "id": "26f263891b7568f4"
  },
  {
   "cell_type": "code",
   "execution_count": null,
   "outputs": [],
   "source": [
    "train_data.groupby(\"index\").nunique()"
   ],
   "metadata": {
    "collapsed": false
   },
   "id": "1417e5cca172e306"
  },
  {
   "cell_type": "code",
   "execution_count": null,
   "outputs": [],
   "source": [],
   "metadata": {
    "collapsed": false
   },
   "id": "e7ae108cb6c1cef1"
  },
  {
   "cell_type": "code",
   "execution_count": null,
   "outputs": [],
   "source": [],
   "metadata": {
    "collapsed": false
   },
   "id": "89d1ed41eea6b405"
  },
  {
   "cell_type": "code",
   "execution_count": 5,
   "outputs": [
    {
     "data": {
      "text/plain": "(1762970, 19)"
     },
     "execution_count": 5,
     "metadata": {},
     "output_type": "execute_result"
    }
   ],
   "source": [
    "train_data.drop_duplicates(\"index\").shape"
   ],
   "metadata": {
    "collapsed": false,
    "ExecuteTime": {
     "end_time": "2023-12-02T10:02:55.171974600Z",
     "start_time": "2023-12-02T10:02:54.220519900Z"
    }
   },
   "id": "9010869624d395b2"
  },
  {
   "cell_type": "code",
   "execution_count": 6,
   "outputs": [
    {
     "data": {
      "text/plain": "           index  id_product  Region Country                 Site  \\\n0         645874      156160  EUROPE      DE         NL_DC_Venray   \n1         469488      224631   CHINA      CN       CN_DC_Shanghai   \n2         348904      104047  EUROPE      GB            NL_DC_HLD   \n3        1725822       11823    EAJP      AU          AU_DC_Perth   \n4         404781      159924  EUROPE      ES            NL_DC_HLD   \n...          ...         ...     ...     ...                  ...   \n3173317  1445304      221019   CHINA      CN            CN_DC_SHD   \n3173331   738575        4004    EAJP      AU          AU_DC_Perth   \n3173333    68026       68026     NAM      US  US_DC_Mechanicsburg   \n3173334  1841243      127244  EUROPE      IT        IT_DC_Venaria   \n3173343   306473       61616     NAM      US  US_DC_Mechanicsburg   \n\n                       Operations            Zone         Cluster  \\\n0               Europe Operations            DACH         Germany   \n1                China Operations      China & HK           China   \n2               Europe Operations  UK and Ireland  United Kingdom   \n3        International Operations         Pacific       Australia   \n4               Europe Operations          Iberia           Spain   \n...                           ...             ...             ...   \n3173317          China Operations      China & HK           China   \n3173331  International Operations         Pacific       Australia   \n3173333  North America Operations              US             USA   \n3173334         Europe Operations           Italy           Italy   \n3173343  North America Operations              US             USA   \n\n         Reference proxy Product  Line proxy Division proxy  \\\n0        reference-13523      Product Line-4     Division-3   \n1        reference-12778      Product Line-4     Division-3   \n2         reference-3513      Product Line-3     Division-2   \n3          reference-672      Product Line-1     Division-1   \n4         reference-3496      Product Line-3     Division-2   \n...                  ...                 ...            ...   \n3173317  reference-17197      Product Line-2     Division-2   \n3173331    reference-309      Product Line-1     Division-1   \n3173333   reference-7393      Product Line-4     Division-3   \n3173334   reference-8620      Product Line-4     Division-3   \n3173343   reference-6241      Product Line-4     Division-3   \n\n           Customer Persona proxy Strategic Product Family proxy  \\\n0         Customer Segmentation-3    Strategic Product Family-12   \n1        Customer Segmentation-14     Strategic Product Family-9   \n2        Customer Segmentation-23     Strategic Product Family-7   \n3        Customer Segmentation-11     Strategic Product Family-3   \n4        Customer Segmentation-14     Strategic Product Family-7   \n...                           ...                            ...   \n3173317  Customer Segmentation-28     Strategic Product Family-5   \n3173331   Customer Segmentation-8     Strategic Product Family-3   \n3173333   Customer Segmentation-4     Strategic Product Family-9   \n3173334   Customer Segmentation-4    Strategic Product Family-12   \n3173343  Customer Segmentation-46    Strategic Product Family-12   \n\n        Product Life cycel status          Date Month 1 Month 2 Month 3  \\\n0                             NaN  may-aug 2021       0       0       0   \n1                             NaN  jan-apr 2021       0       1       0   \n2                             NaN  jan-apr 2021       0       2       0   \n3                             NaN  jan-apr 2023       0       0       0   \n4                             NaN  jan-apr 2021       0       0       0   \n...                           ...           ...     ...     ...     ...   \n3173317                       NaN  may-aug 2022       0       0       0   \n3173331                       EOL  sep-dec 2021       0       1       0   \n3173333                       NaN  sep-dec 2020      18       1       0   \n3173334                       NaN  jan-apr 2023       0       1       0   \n3173343                       NaN  jan-apr 2021       0       0       0   \n\n        Month 4  \n0             0  \n1             0  \n2             0  \n3             0  \n4             0  \n...         ...  \n3173317       0  \n3173331       0  \n3173333       0  \n3173334       0  \n3173343       0  \n\n[1762970 rows x 19 columns]",
      "text/html": "<div>\n<style scoped>\n    .dataframe tbody tr th:only-of-type {\n        vertical-align: middle;\n    }\n\n    .dataframe tbody tr th {\n        vertical-align: top;\n    }\n\n    .dataframe thead th {\n        text-align: right;\n    }\n</style>\n<table border=\"1\" class=\"dataframe\">\n  <thead>\n    <tr style=\"text-align: right;\">\n      <th></th>\n      <th>index</th>\n      <th>id_product</th>\n      <th>Region</th>\n      <th>Country</th>\n      <th>Site</th>\n      <th>Operations</th>\n      <th>Zone</th>\n      <th>Cluster</th>\n      <th>Reference proxy</th>\n      <th>Product  Line proxy</th>\n      <th>Division proxy</th>\n      <th>Customer Persona proxy</th>\n      <th>Strategic Product Family proxy</th>\n      <th>Product Life cycel status</th>\n      <th>Date</th>\n      <th>Month 1</th>\n      <th>Month 2</th>\n      <th>Month 3</th>\n      <th>Month 4</th>\n    </tr>\n  </thead>\n  <tbody>\n    <tr>\n      <th>0</th>\n      <td>645874</td>\n      <td>156160</td>\n      <td>EUROPE</td>\n      <td>DE</td>\n      <td>NL_DC_Venray</td>\n      <td>Europe Operations</td>\n      <td>DACH</td>\n      <td>Germany</td>\n      <td>reference-13523</td>\n      <td>Product Line-4</td>\n      <td>Division-3</td>\n      <td>Customer Segmentation-3</td>\n      <td>Strategic Product Family-12</td>\n      <td>NaN</td>\n      <td>may-aug 2021</td>\n      <td>0</td>\n      <td>0</td>\n      <td>0</td>\n      <td>0</td>\n    </tr>\n    <tr>\n      <th>1</th>\n      <td>469488</td>\n      <td>224631</td>\n      <td>CHINA</td>\n      <td>CN</td>\n      <td>CN_DC_Shanghai</td>\n      <td>China Operations</td>\n      <td>China &amp; HK</td>\n      <td>China</td>\n      <td>reference-12778</td>\n      <td>Product Line-4</td>\n      <td>Division-3</td>\n      <td>Customer Segmentation-14</td>\n      <td>Strategic Product Family-9</td>\n      <td>NaN</td>\n      <td>jan-apr 2021</td>\n      <td>0</td>\n      <td>1</td>\n      <td>0</td>\n      <td>0</td>\n    </tr>\n    <tr>\n      <th>2</th>\n      <td>348904</td>\n      <td>104047</td>\n      <td>EUROPE</td>\n      <td>GB</td>\n      <td>NL_DC_HLD</td>\n      <td>Europe Operations</td>\n      <td>UK and Ireland</td>\n      <td>United Kingdom</td>\n      <td>reference-3513</td>\n      <td>Product Line-3</td>\n      <td>Division-2</td>\n      <td>Customer Segmentation-23</td>\n      <td>Strategic Product Family-7</td>\n      <td>NaN</td>\n      <td>jan-apr 2021</td>\n      <td>0</td>\n      <td>2</td>\n      <td>0</td>\n      <td>0</td>\n    </tr>\n    <tr>\n      <th>3</th>\n      <td>1725822</td>\n      <td>11823</td>\n      <td>EAJP</td>\n      <td>AU</td>\n      <td>AU_DC_Perth</td>\n      <td>International Operations</td>\n      <td>Pacific</td>\n      <td>Australia</td>\n      <td>reference-672</td>\n      <td>Product Line-1</td>\n      <td>Division-1</td>\n      <td>Customer Segmentation-11</td>\n      <td>Strategic Product Family-3</td>\n      <td>NaN</td>\n      <td>jan-apr 2023</td>\n      <td>0</td>\n      <td>0</td>\n      <td>0</td>\n      <td>0</td>\n    </tr>\n    <tr>\n      <th>4</th>\n      <td>404781</td>\n      <td>159924</td>\n      <td>EUROPE</td>\n      <td>ES</td>\n      <td>NL_DC_HLD</td>\n      <td>Europe Operations</td>\n      <td>Iberia</td>\n      <td>Spain</td>\n      <td>reference-3496</td>\n      <td>Product Line-3</td>\n      <td>Division-2</td>\n      <td>Customer Segmentation-14</td>\n      <td>Strategic Product Family-7</td>\n      <td>NaN</td>\n      <td>jan-apr 2021</td>\n      <td>0</td>\n      <td>0</td>\n      <td>0</td>\n      <td>0</td>\n    </tr>\n    <tr>\n      <th>...</th>\n      <td>...</td>\n      <td>...</td>\n      <td>...</td>\n      <td>...</td>\n      <td>...</td>\n      <td>...</td>\n      <td>...</td>\n      <td>...</td>\n      <td>...</td>\n      <td>...</td>\n      <td>...</td>\n      <td>...</td>\n      <td>...</td>\n      <td>...</td>\n      <td>...</td>\n      <td>...</td>\n      <td>...</td>\n      <td>...</td>\n      <td>...</td>\n    </tr>\n    <tr>\n      <th>3173317</th>\n      <td>1445304</td>\n      <td>221019</td>\n      <td>CHINA</td>\n      <td>CN</td>\n      <td>CN_DC_SHD</td>\n      <td>China Operations</td>\n      <td>China &amp; HK</td>\n      <td>China</td>\n      <td>reference-17197</td>\n      <td>Product Line-2</td>\n      <td>Division-2</td>\n      <td>Customer Segmentation-28</td>\n      <td>Strategic Product Family-5</td>\n      <td>NaN</td>\n      <td>may-aug 2022</td>\n      <td>0</td>\n      <td>0</td>\n      <td>0</td>\n      <td>0</td>\n    </tr>\n    <tr>\n      <th>3173331</th>\n      <td>738575</td>\n      <td>4004</td>\n      <td>EAJP</td>\n      <td>AU</td>\n      <td>AU_DC_Perth</td>\n      <td>International Operations</td>\n      <td>Pacific</td>\n      <td>Australia</td>\n      <td>reference-309</td>\n      <td>Product Line-1</td>\n      <td>Division-1</td>\n      <td>Customer Segmentation-8</td>\n      <td>Strategic Product Family-3</td>\n      <td>EOL</td>\n      <td>sep-dec 2021</td>\n      <td>0</td>\n      <td>1</td>\n      <td>0</td>\n      <td>0</td>\n    </tr>\n    <tr>\n      <th>3173333</th>\n      <td>68026</td>\n      <td>68026</td>\n      <td>NAM</td>\n      <td>US</td>\n      <td>US_DC_Mechanicsburg</td>\n      <td>North America Operations</td>\n      <td>US</td>\n      <td>USA</td>\n      <td>reference-7393</td>\n      <td>Product Line-4</td>\n      <td>Division-3</td>\n      <td>Customer Segmentation-4</td>\n      <td>Strategic Product Family-9</td>\n      <td>NaN</td>\n      <td>sep-dec 2020</td>\n      <td>18</td>\n      <td>1</td>\n      <td>0</td>\n      <td>0</td>\n    </tr>\n    <tr>\n      <th>3173334</th>\n      <td>1841243</td>\n      <td>127244</td>\n      <td>EUROPE</td>\n      <td>IT</td>\n      <td>IT_DC_Venaria</td>\n      <td>Europe Operations</td>\n      <td>Italy</td>\n      <td>Italy</td>\n      <td>reference-8620</td>\n      <td>Product Line-4</td>\n      <td>Division-3</td>\n      <td>Customer Segmentation-4</td>\n      <td>Strategic Product Family-12</td>\n      <td>NaN</td>\n      <td>jan-apr 2023</td>\n      <td>0</td>\n      <td>1</td>\n      <td>0</td>\n      <td>0</td>\n    </tr>\n    <tr>\n      <th>3173343</th>\n      <td>306473</td>\n      <td>61616</td>\n      <td>NAM</td>\n      <td>US</td>\n      <td>US_DC_Mechanicsburg</td>\n      <td>North America Operations</td>\n      <td>US</td>\n      <td>USA</td>\n      <td>reference-6241</td>\n      <td>Product Line-4</td>\n      <td>Division-3</td>\n      <td>Customer Segmentation-46</td>\n      <td>Strategic Product Family-12</td>\n      <td>NaN</td>\n      <td>jan-apr 2021</td>\n      <td>0</td>\n      <td>0</td>\n      <td>0</td>\n      <td>0</td>\n    </tr>\n  </tbody>\n</table>\n<p>1762970 rows × 19 columns</p>\n</div>"
     },
     "execution_count": 6,
     "metadata": {},
     "output_type": "execute_result"
    }
   ],
   "source": [
    "train_data = train_data.drop_duplicates(\"index\")\n",
    "train_data"
   ],
   "metadata": {
    "collapsed": false,
    "ExecuteTime": {
     "end_time": "2023-12-02T10:02:57.261314700Z",
     "start_time": "2023-12-02T10:02:55.937851300Z"
    }
   },
   "id": "8e26c1208ef55df3"
  },
  {
   "cell_type": "code",
   "execution_count": 3,
   "outputs": [
    {
     "data": {
      "text/plain": "            index  Region  Country  Site  Operations  Zone  Cluster  \\\nid_product                                                            \n0               9       1        1     1           1     1        1   \n1               6       1        1     1           1     1        1   \n2               7       1        1     1           1     1        1   \n3               7       1        1     1           1     1        1   \n4               7       1        1     1           1     1        1   \n...           ...     ...      ...   ...         ...   ...      ...   \n244852          9       1        1     1           1     1        1   \n244853          9       1        1     1           1     1        1   \n244854          7       1        1     1           1     1        1   \n244855          5       1        1     1           1     1        1   \n244856          6       1        1     1           1     1        1   \n\n            Reference proxy  Product  Line proxy  Division proxy  \\\nid_product                                                         \n0                         1                    1               1   \n1                         1                    1               1   \n2                         1                    1               1   \n3                         1                    1               1   \n4                         1                    1               1   \n...                     ...                  ...             ...   \n244852                    1                    1               1   \n244853                    1                    1               1   \n244854                    1                    1               1   \n244855                    1                    1               1   \n244856                    1                    1               1   \n\n            Customer Persona proxy  Strategic Product Family proxy  \\\nid_product                                                           \n0                                1                               1   \n1                                1                               1   \n2                                1                               1   \n3                                1                               1   \n4                                1                               1   \n...                            ...                             ...   \n244852                           1                               1   \n244853                           1                               1   \n244854                           1                               1   \n244855                           1                               1   \n244856                           1                               1   \n\n            Product Life cycel status  Date  Month 1  Month 2  Month 3  \\\nid_product                                                               \n0                                   0     9        2        1        1   \n1                                   1     6        1        2        1   \n2                                   1     7        1        1        2   \n3                                   1     7        1        2        2   \n4                                   1     7        1        1        1   \n...                               ...   ...      ...      ...      ...   \n244852                              0     9        1        1        2   \n244853                              0     9        2        4        6   \n244854                              0     7        3        4        5   \n244855                              1     5        2        1        1   \n244856                              1     6        1        2        1   \n\n            Month 4  \nid_product           \n0                 1  \n1                 1  \n2                 1  \n3                 2  \n4                 1  \n...             ...  \n244852            1  \n244853            4  \n244854            3  \n244855            1  \n244856            2  \n\n[244857 rows x 18 columns]",
      "text/html": "<div>\n<style scoped>\n    .dataframe tbody tr th:only-of-type {\n        vertical-align: middle;\n    }\n\n    .dataframe tbody tr th {\n        vertical-align: top;\n    }\n\n    .dataframe thead th {\n        text-align: right;\n    }\n</style>\n<table border=\"1\" class=\"dataframe\">\n  <thead>\n    <tr style=\"text-align: right;\">\n      <th></th>\n      <th>index</th>\n      <th>Region</th>\n      <th>Country</th>\n      <th>Site</th>\n      <th>Operations</th>\n      <th>Zone</th>\n      <th>Cluster</th>\n      <th>Reference proxy</th>\n      <th>Product  Line proxy</th>\n      <th>Division proxy</th>\n      <th>Customer Persona proxy</th>\n      <th>Strategic Product Family proxy</th>\n      <th>Product Life cycel status</th>\n      <th>Date</th>\n      <th>Month 1</th>\n      <th>Month 2</th>\n      <th>Month 3</th>\n      <th>Month 4</th>\n    </tr>\n    <tr>\n      <th>id_product</th>\n      <th></th>\n      <th></th>\n      <th></th>\n      <th></th>\n      <th></th>\n      <th></th>\n      <th></th>\n      <th></th>\n      <th></th>\n      <th></th>\n      <th></th>\n      <th></th>\n      <th></th>\n      <th></th>\n      <th></th>\n      <th></th>\n      <th></th>\n      <th></th>\n    </tr>\n  </thead>\n  <tbody>\n    <tr>\n      <th>0</th>\n      <td>9</td>\n      <td>1</td>\n      <td>1</td>\n      <td>1</td>\n      <td>1</td>\n      <td>1</td>\n      <td>1</td>\n      <td>1</td>\n      <td>1</td>\n      <td>1</td>\n      <td>1</td>\n      <td>1</td>\n      <td>0</td>\n      <td>9</td>\n      <td>2</td>\n      <td>1</td>\n      <td>1</td>\n      <td>1</td>\n    </tr>\n    <tr>\n      <th>1</th>\n      <td>6</td>\n      <td>1</td>\n      <td>1</td>\n      <td>1</td>\n      <td>1</td>\n      <td>1</td>\n      <td>1</td>\n      <td>1</td>\n      <td>1</td>\n      <td>1</td>\n      <td>1</td>\n      <td>1</td>\n      <td>1</td>\n      <td>6</td>\n      <td>1</td>\n      <td>2</td>\n      <td>1</td>\n      <td>1</td>\n    </tr>\n    <tr>\n      <th>2</th>\n      <td>7</td>\n      <td>1</td>\n      <td>1</td>\n      <td>1</td>\n      <td>1</td>\n      <td>1</td>\n      <td>1</td>\n      <td>1</td>\n      <td>1</td>\n      <td>1</td>\n      <td>1</td>\n      <td>1</td>\n      <td>1</td>\n      <td>7</td>\n      <td>1</td>\n      <td>1</td>\n      <td>2</td>\n      <td>1</td>\n    </tr>\n    <tr>\n      <th>3</th>\n      <td>7</td>\n      <td>1</td>\n      <td>1</td>\n      <td>1</td>\n      <td>1</td>\n      <td>1</td>\n      <td>1</td>\n      <td>1</td>\n      <td>1</td>\n      <td>1</td>\n      <td>1</td>\n      <td>1</td>\n      <td>1</td>\n      <td>7</td>\n      <td>1</td>\n      <td>2</td>\n      <td>2</td>\n      <td>2</td>\n    </tr>\n    <tr>\n      <th>4</th>\n      <td>7</td>\n      <td>1</td>\n      <td>1</td>\n      <td>1</td>\n      <td>1</td>\n      <td>1</td>\n      <td>1</td>\n      <td>1</td>\n      <td>1</td>\n      <td>1</td>\n      <td>1</td>\n      <td>1</td>\n      <td>1</td>\n      <td>7</td>\n      <td>1</td>\n      <td>1</td>\n      <td>1</td>\n      <td>1</td>\n    </tr>\n    <tr>\n      <th>...</th>\n      <td>...</td>\n      <td>...</td>\n      <td>...</td>\n      <td>...</td>\n      <td>...</td>\n      <td>...</td>\n      <td>...</td>\n      <td>...</td>\n      <td>...</td>\n      <td>...</td>\n      <td>...</td>\n      <td>...</td>\n      <td>...</td>\n      <td>...</td>\n      <td>...</td>\n      <td>...</td>\n      <td>...</td>\n      <td>...</td>\n    </tr>\n    <tr>\n      <th>244852</th>\n      <td>9</td>\n      <td>1</td>\n      <td>1</td>\n      <td>1</td>\n      <td>1</td>\n      <td>1</td>\n      <td>1</td>\n      <td>1</td>\n      <td>1</td>\n      <td>1</td>\n      <td>1</td>\n      <td>1</td>\n      <td>0</td>\n      <td>9</td>\n      <td>1</td>\n      <td>1</td>\n      <td>2</td>\n      <td>1</td>\n    </tr>\n    <tr>\n      <th>244853</th>\n      <td>9</td>\n      <td>1</td>\n      <td>1</td>\n      <td>1</td>\n      <td>1</td>\n      <td>1</td>\n      <td>1</td>\n      <td>1</td>\n      <td>1</td>\n      <td>1</td>\n      <td>1</td>\n      <td>1</td>\n      <td>0</td>\n      <td>9</td>\n      <td>2</td>\n      <td>4</td>\n      <td>6</td>\n      <td>4</td>\n    </tr>\n    <tr>\n      <th>244854</th>\n      <td>7</td>\n      <td>1</td>\n      <td>1</td>\n      <td>1</td>\n      <td>1</td>\n      <td>1</td>\n      <td>1</td>\n      <td>1</td>\n      <td>1</td>\n      <td>1</td>\n      <td>1</td>\n      <td>1</td>\n      <td>0</td>\n      <td>7</td>\n      <td>3</td>\n      <td>4</td>\n      <td>5</td>\n      <td>3</td>\n    </tr>\n    <tr>\n      <th>244855</th>\n      <td>5</td>\n      <td>1</td>\n      <td>1</td>\n      <td>1</td>\n      <td>1</td>\n      <td>1</td>\n      <td>1</td>\n      <td>1</td>\n      <td>1</td>\n      <td>1</td>\n      <td>1</td>\n      <td>1</td>\n      <td>1</td>\n      <td>5</td>\n      <td>2</td>\n      <td>1</td>\n      <td>1</td>\n      <td>1</td>\n    </tr>\n    <tr>\n      <th>244856</th>\n      <td>6</td>\n      <td>1</td>\n      <td>1</td>\n      <td>1</td>\n      <td>1</td>\n      <td>1</td>\n      <td>1</td>\n      <td>1</td>\n      <td>1</td>\n      <td>1</td>\n      <td>1</td>\n      <td>1</td>\n      <td>1</td>\n      <td>6</td>\n      <td>1</td>\n      <td>2</td>\n      <td>1</td>\n      <td>2</td>\n    </tr>\n  </tbody>\n</table>\n<p>244857 rows × 18 columns</p>\n</div>"
     },
     "execution_count": 3,
     "metadata": {},
     "output_type": "execute_result"
    }
   ],
   "source": [
    "train_data.groupby(\"id_product\").nunique()"
   ],
   "metadata": {
    "collapsed": false,
    "ExecuteTime": {
     "end_time": "2023-12-02T12:59:37.570282300Z",
     "start_time": "2023-12-02T12:58:47.432065700Z"
    }
   },
   "id": "9568b674e99e28e9"
  },
  {
   "cell_type": "code",
   "execution_count": null,
   "outputs": [],
   "source": [
    "train_data.groupby()"
   ],
   "metadata": {
    "collapsed": false
   },
   "id": "9187a5d211e73bba"
  },
  {
   "cell_type": "code",
   "execution_count": 8,
   "outputs": [
    {
     "ename": "KeyboardInterrupt",
     "evalue": "",
     "output_type": "error",
     "traceback": [
      "\u001B[1;31m---------------------------------------------------------------------------\u001B[0m",
      "\u001B[1;31mKeyboardInterrupt\u001B[0m                         Traceback (most recent call last)",
      "Cell \u001B[1;32mIn[8], line 62\u001B[0m\n\u001B[0;32m     50\u001B[0m preprocessor \u001B[38;5;241m=\u001B[39m ColumnTransformer(transformers\u001B[38;5;241m=\u001B[39m[\n\u001B[0;32m     51\u001B[0m         (\u001B[38;5;124m'\u001B[39m\u001B[38;5;124mcat\u001B[39m\u001B[38;5;124m'\u001B[39m, categorical_transformer, categorical_features),\n\u001B[0;32m     52\u001B[0m         (\u001B[38;5;124m'\u001B[39m\u001B[38;5;124mnum\u001B[39m\u001B[38;5;124m'\u001B[39m, numerical_transformer, numerical_features)\n\u001B[0;32m     53\u001B[0m ])\n\u001B[0;32m     57\u001B[0m clf \u001B[38;5;241m=\u001B[39m Pipeline(steps\u001B[38;5;241m=\u001B[39m[\n\u001B[0;32m     58\u001B[0m     (\u001B[38;5;124m'\u001B[39m\u001B[38;5;124mpreprocessor\u001B[39m\u001B[38;5;124m'\u001B[39m, preprocessor),\n\u001B[0;32m     59\u001B[0m     (\u001B[38;5;124m'\u001B[39m\u001B[38;5;124mclassifier\u001B[39m\u001B[38;5;124m'\u001B[39m, DecisionTreeClassifier(max_depth\u001B[38;5;241m=\u001B[39m\u001B[38;5;241m7\u001B[39m, random_state\u001B[38;5;241m=\u001B[39m\u001B[38;5;241m123\u001B[39m))\n\u001B[0;32m     60\u001B[0m ])\n\u001B[1;32m---> 62\u001B[0m \u001B[43mclf\u001B[49m\u001B[38;5;241;43m.\u001B[39;49m\u001B[43mfit\u001B[49m\u001B[43m(\u001B[49m\u001B[43mX\u001B[49m\u001B[43m,\u001B[49m\u001B[43m \u001B[49m\u001B[43my\u001B[49m\u001B[43m)\u001B[49m\n\u001B[0;32m     64\u001B[0m \u001B[38;5;66;03m#preprocessor.fit(X)\u001B[39;00m\n",
      "File \u001B[1;32mc:\\users\\e-per\\appdata\\local\\programs\\python\\python39\\lib\\site-packages\\sklearn\\base.py:1152\u001B[0m, in \u001B[0;36m_fit_context.<locals>.decorator.<locals>.wrapper\u001B[1;34m(estimator, *args, **kwargs)\u001B[0m\n\u001B[0;32m   1145\u001B[0m     estimator\u001B[38;5;241m.\u001B[39m_validate_params()\n\u001B[0;32m   1147\u001B[0m \u001B[38;5;28;01mwith\u001B[39;00m config_context(\n\u001B[0;32m   1148\u001B[0m     skip_parameter_validation\u001B[38;5;241m=\u001B[39m(\n\u001B[0;32m   1149\u001B[0m         prefer_skip_nested_validation \u001B[38;5;129;01mor\u001B[39;00m global_skip_validation\n\u001B[0;32m   1150\u001B[0m     )\n\u001B[0;32m   1151\u001B[0m ):\n\u001B[1;32m-> 1152\u001B[0m     \u001B[38;5;28;01mreturn\u001B[39;00m fit_method(estimator, \u001B[38;5;241m*\u001B[39margs, \u001B[38;5;241m*\u001B[39m\u001B[38;5;241m*\u001B[39mkwargs)\n",
      "File \u001B[1;32mc:\\users\\e-per\\appdata\\local\\programs\\python\\python39\\lib\\site-packages\\sklearn\\pipeline.py:427\u001B[0m, in \u001B[0;36mPipeline.fit\u001B[1;34m(self, X, y, **fit_params)\u001B[0m\n\u001B[0;32m    425\u001B[0m     \u001B[38;5;28;01mif\u001B[39;00m \u001B[38;5;28mself\u001B[39m\u001B[38;5;241m.\u001B[39m_final_estimator \u001B[38;5;241m!=\u001B[39m \u001B[38;5;124m\"\u001B[39m\u001B[38;5;124mpassthrough\u001B[39m\u001B[38;5;124m\"\u001B[39m:\n\u001B[0;32m    426\u001B[0m         fit_params_last_step \u001B[38;5;241m=\u001B[39m fit_params_steps[\u001B[38;5;28mself\u001B[39m\u001B[38;5;241m.\u001B[39msteps[\u001B[38;5;241m-\u001B[39m\u001B[38;5;241m1\u001B[39m][\u001B[38;5;241m0\u001B[39m]]\n\u001B[1;32m--> 427\u001B[0m         \u001B[38;5;28mself\u001B[39m\u001B[38;5;241m.\u001B[39m_final_estimator\u001B[38;5;241m.\u001B[39mfit(Xt, y, \u001B[38;5;241m*\u001B[39m\u001B[38;5;241m*\u001B[39mfit_params_last_step)\n\u001B[0;32m    429\u001B[0m \u001B[38;5;28;01mreturn\u001B[39;00m \u001B[38;5;28mself\u001B[39m\n",
      "File \u001B[1;32mc:\\users\\e-per\\appdata\\local\\programs\\python\\python39\\lib\\site-packages\\sklearn\\base.py:1152\u001B[0m, in \u001B[0;36m_fit_context.<locals>.decorator.<locals>.wrapper\u001B[1;34m(estimator, *args, **kwargs)\u001B[0m\n\u001B[0;32m   1145\u001B[0m     estimator\u001B[38;5;241m.\u001B[39m_validate_params()\n\u001B[0;32m   1147\u001B[0m \u001B[38;5;28;01mwith\u001B[39;00m config_context(\n\u001B[0;32m   1148\u001B[0m     skip_parameter_validation\u001B[38;5;241m=\u001B[39m(\n\u001B[0;32m   1149\u001B[0m         prefer_skip_nested_validation \u001B[38;5;129;01mor\u001B[39;00m global_skip_validation\n\u001B[0;32m   1150\u001B[0m     )\n\u001B[0;32m   1151\u001B[0m ):\n\u001B[1;32m-> 1152\u001B[0m     \u001B[38;5;28;01mreturn\u001B[39;00m fit_method(estimator, \u001B[38;5;241m*\u001B[39margs, \u001B[38;5;241m*\u001B[39m\u001B[38;5;241m*\u001B[39mkwargs)\n",
      "File \u001B[1;32mc:\\users\\e-per\\appdata\\local\\programs\\python\\python39\\lib\\site-packages\\sklearn\\tree\\_classes.py:959\u001B[0m, in \u001B[0;36mDecisionTreeClassifier.fit\u001B[1;34m(self, X, y, sample_weight, check_input)\u001B[0m\n\u001B[0;32m    928\u001B[0m \u001B[38;5;129m@_fit_context\u001B[39m(prefer_skip_nested_validation\u001B[38;5;241m=\u001B[39m\u001B[38;5;28;01mTrue\u001B[39;00m)\n\u001B[0;32m    929\u001B[0m \u001B[38;5;28;01mdef\u001B[39;00m \u001B[38;5;21mfit\u001B[39m(\u001B[38;5;28mself\u001B[39m, X, y, sample_weight\u001B[38;5;241m=\u001B[39m\u001B[38;5;28;01mNone\u001B[39;00m, check_input\u001B[38;5;241m=\u001B[39m\u001B[38;5;28;01mTrue\u001B[39;00m):\n\u001B[0;32m    930\u001B[0m \u001B[38;5;250m    \u001B[39m\u001B[38;5;124;03m\"\"\"Build a decision tree classifier from the training set (X, y).\u001B[39;00m\n\u001B[0;32m    931\u001B[0m \n\u001B[0;32m    932\u001B[0m \u001B[38;5;124;03m    Parameters\u001B[39;00m\n\u001B[1;32m   (...)\u001B[0m\n\u001B[0;32m    956\u001B[0m \u001B[38;5;124;03m        Fitted estimator.\u001B[39;00m\n\u001B[0;32m    957\u001B[0m \u001B[38;5;124;03m    \"\"\"\u001B[39;00m\n\u001B[1;32m--> 959\u001B[0m     \u001B[38;5;28;43msuper\u001B[39;49m\u001B[43m(\u001B[49m\u001B[43m)\u001B[49m\u001B[38;5;241;43m.\u001B[39;49m\u001B[43m_fit\u001B[49m\u001B[43m(\u001B[49m\n\u001B[0;32m    960\u001B[0m \u001B[43m        \u001B[49m\u001B[43mX\u001B[49m\u001B[43m,\u001B[49m\n\u001B[0;32m    961\u001B[0m \u001B[43m        \u001B[49m\u001B[43my\u001B[49m\u001B[43m,\u001B[49m\n\u001B[0;32m    962\u001B[0m \u001B[43m        \u001B[49m\u001B[43msample_weight\u001B[49m\u001B[38;5;241;43m=\u001B[39;49m\u001B[43msample_weight\u001B[49m\u001B[43m,\u001B[49m\n\u001B[0;32m    963\u001B[0m \u001B[43m        \u001B[49m\u001B[43mcheck_input\u001B[49m\u001B[38;5;241;43m=\u001B[39;49m\u001B[43mcheck_input\u001B[49m\u001B[43m,\u001B[49m\n\u001B[0;32m    964\u001B[0m \u001B[43m    \u001B[49m\u001B[43m)\u001B[49m\n\u001B[0;32m    965\u001B[0m     \u001B[38;5;28;01mreturn\u001B[39;00m \u001B[38;5;28mself\u001B[39m\n",
      "File \u001B[1;32mc:\\users\\e-per\\appdata\\local\\programs\\python\\python39\\lib\\site-packages\\sklearn\\tree\\_classes.py:443\u001B[0m, in \u001B[0;36mBaseDecisionTree._fit\u001B[1;34m(self, X, y, sample_weight, check_input, missing_values_in_feature_mask)\u001B[0m\n\u001B[0;32m    432\u001B[0m \u001B[38;5;28;01melse\u001B[39;00m:\n\u001B[0;32m    433\u001B[0m     builder \u001B[38;5;241m=\u001B[39m BestFirstTreeBuilder(\n\u001B[0;32m    434\u001B[0m         splitter,\n\u001B[0;32m    435\u001B[0m         min_samples_split,\n\u001B[1;32m   (...)\u001B[0m\n\u001B[0;32m    440\u001B[0m         \u001B[38;5;28mself\u001B[39m\u001B[38;5;241m.\u001B[39mmin_impurity_decrease,\n\u001B[0;32m    441\u001B[0m     )\n\u001B[1;32m--> 443\u001B[0m \u001B[43mbuilder\u001B[49m\u001B[38;5;241;43m.\u001B[39;49m\u001B[43mbuild\u001B[49m\u001B[43m(\u001B[49m\u001B[38;5;28;43mself\u001B[39;49m\u001B[38;5;241;43m.\u001B[39;49m\u001B[43mtree_\u001B[49m\u001B[43m,\u001B[49m\u001B[43m \u001B[49m\u001B[43mX\u001B[49m\u001B[43m,\u001B[49m\u001B[43m \u001B[49m\u001B[43my\u001B[49m\u001B[43m,\u001B[49m\u001B[43m \u001B[49m\u001B[43msample_weight\u001B[49m\u001B[43m,\u001B[49m\u001B[43m \u001B[49m\u001B[43mmissing_values_in_feature_mask\u001B[49m\u001B[43m)\u001B[49m\n\u001B[0;32m    445\u001B[0m \u001B[38;5;28;01mif\u001B[39;00m \u001B[38;5;28mself\u001B[39m\u001B[38;5;241m.\u001B[39mn_outputs_ \u001B[38;5;241m==\u001B[39m \u001B[38;5;241m1\u001B[39m \u001B[38;5;129;01mand\u001B[39;00m is_classifier(\u001B[38;5;28mself\u001B[39m):\n\u001B[0;32m    446\u001B[0m     \u001B[38;5;28mself\u001B[39m\u001B[38;5;241m.\u001B[39mn_classes_ \u001B[38;5;241m=\u001B[39m \u001B[38;5;28mself\u001B[39m\u001B[38;5;241m.\u001B[39mn_classes_[\u001B[38;5;241m0\u001B[39m]\n",
      "\u001B[1;31mKeyboardInterrupt\u001B[0m: "
     ]
    }
   ],
   "source": [
    "from sklearn.preprocessing import FunctionTransformer\n",
    "from sklearn.tree import DecisionTreeClassifier\n",
    "\n",
    "X = train_data.drop(columns=\"Month 4\")\n",
    "y = train_data[\"Month 4\"]\n",
    "\n",
    "categorical_features    = [\n",
    "                            \"Region\",\n",
    "                            \"Country\",\n",
    "                            \"Site\",\n",
    "                            \"Operations\",\n",
    "                            \"Zone\",\n",
    "                            \"Cluster\",\n",
    "                            \"Reference proxy\",\n",
    "                            \"Product  Line proxy\", #typo !\n",
    "                            \"Division proxy\",\n",
    "                            \"Customer Persona proxy\",\n",
    "                            \"Strategic Product Family proxy\",\n",
    "                            \"Product Life cycel status\", #typo !\n",
    "                            \"Date\"\n",
    "                        ]\n",
    "\n",
    "numerical_features      = [\n",
    "                            \"index\",\n",
    "                            \"id_product\",\n",
    "                            \"Month 1\",\n",
    "                            \"Month 2\",\n",
    "                            \"Month 3\",\n",
    "                        ]\n",
    "\n",
    "# Pipeline de transformation des features catégoriques \n",
    "\n",
    "categorical_transformer = Pipeline(steps=[\n",
    "    ('onehot', OneHotEncoder(handle_unknown='infrequent_if_exist')),\n",
    "    #('ordinal', OrdinalEncoder())\n",
    "])\n",
    "\n",
    "# Pipeline de transformation des features numériques \n",
    "\n",
    "numerical_transformer = Pipeline(steps=[\n",
    "    ('remove_space', FunctionTransformer(\n",
    "        np.frompyfunc(lambda s: str(s).replace(\" \", \"\"), 1, 1) #\n",
    "    )),\n",
    "    ('scaler', StandardScaler()),\n",
    "    ('imputer', SimpleImputer(strategy='constant', fill_value=-1))\n",
    "    #TODO transformer for the NaN ?\n",
    "])\n",
    "\n",
    "preprocessor = ColumnTransformer(transformers=[\n",
    "        ('cat', categorical_transformer, categorical_features),\n",
    "        ('num', numerical_transformer, numerical_features)\n",
    "])\n",
    "\n",
    "\n",
    "\n",
    "clf = Pipeline(steps=[\n",
    "    ('preprocessor', preprocessor),\n",
    "    ('classifier', DecisionTreeClassifier(max_depth=7, random_state=123))\n",
    "])\n",
    "\n",
    "clf.fit(X, y)\n",
    "\n",
    "#preprocessor.fit(X)"
   ],
   "metadata": {
    "collapsed": false,
    "ExecuteTime": {
     "end_time": "2023-12-02T10:09:53.177528600Z",
     "start_time": "2023-12-02T10:03:31.368268300Z"
    }
   },
   "id": "6fd2272b35ebbb71"
  },
  {
   "cell_type": "code",
   "execution_count": 79,
   "outputs": [
    {
     "data": {
      "text/plain": "<1762970x22682 sparse matrix of type '<class 'numpy.float64'>'\n\twith 31733460 stored elements in Compressed Sparse Row format>"
     },
     "execution_count": 79,
     "metadata": {},
     "output_type": "execute_result"
    }
   ],
   "source": [
    "preprocessor.transform(X)"
   ],
   "metadata": {
    "collapsed": false,
    "ExecuteTime": {
     "end_time": "2023-12-02T02:10:28.423510700Z",
     "start_time": "2023-12-02T02:10:01.571783100Z"
    }
   },
   "id": "7b40c80d136197e0"
  },
  {
   "cell_type": "code",
   "execution_count": 47,
   "outputs": [],
   "source": [],
   "metadata": {
    "collapsed": false,
    "ExecuteTime": {
     "end_time": "2023-12-02T01:35:54.786516600Z",
     "start_time": "2023-12-02T01:35:54.753606700Z"
    }
   },
   "id": "584a6ae42d46df1e"
  },
  {
   "cell_type": "code",
   "execution_count": null,
   "outputs": [],
   "source": [],
   "metadata": {
    "collapsed": false
   },
   "id": "6878088bbc3c7602"
  }
 ],
 "metadata": {
  "kernelspec": {
   "display_name": "Python 3",
   "language": "python",
   "name": "python3"
  },
  "language_info": {
   "codemirror_mode": {
    "name": "ipython",
    "version": 2
   },
   "file_extension": ".py",
   "mimetype": "text/x-python",
   "name": "python",
   "nbconvert_exporter": "python",
   "pygments_lexer": "ipython2",
   "version": "2.7.6"
  }
 },
 "nbformat": 4,
 "nbformat_minor": 5
}

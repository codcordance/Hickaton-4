{
 "cells": [
  {
   "cell_type": "code",
   "execution_count": null,
   "id": "initial_id",
   "metadata": {
    "collapsed": true
   },
   "outputs": [],
   "source": [
    "import pandas as pd\n",
    "import numpy as np\n",
    "import dalex as dx\n",
    "\n",
    "from sklearn.compose import ColumnTransformer\n",
    "from sklearn.pipeline import Pipeline\n",
    "from sklearn.preprocessing import OneHotEncoder, OrdinalEncoder\n",
    "from sklearn.preprocessing import StandardScaler\n",
    "from sklearn.impute import SimpleImputer"
   ]
  },
  {
   "cell_type": "code",
   "execution_count": null,
   "outputs": [],
   "source": [
    "train_data = pd.read_csv(\"./data/train-data.csv\", sep=\";\")"
   ],
   "metadata": {
    "collapsed": false
   },
   "id": "6e11728b887f7a45"
  },
  {
   "cell_type": "code",
   "execution_count": null,
   "outputs": [],
   "source": [
    "train_data = train_data.drop_duplicates(\"index\")\n",
    "train_data"
   ],
   "metadata": {
    "collapsed": false
   },
   "id": "15606bc679fa4881"
  },
  {
   "cell_type": "code",
   "execution_count": null,
   "outputs": [],
   "source": [
    "train_data.columns"
   ],
   "metadata": {
    "collapsed": false
   },
   "id": "d430c38aa7b544b9"
  },
  {
   "cell_type": "code",
   "execution_count": null,
   "outputs": [],
   "source": [
    "train_data[\"Month 1\"] = train_data[\"Month 1\"].apply(lambda s: \"\".join(str(s).split())).astype(\"float\")\n",
    "train_data[\"Month 2\"] = train_data[\"Month 2\"].apply(lambda s: \"\".join(str(s).split())).astype(\"float\")\n",
    "train_data[\"Month 3\"] = train_data[\"Month 3\"].apply(lambda s: \"\".join(str(s).split())).astype(\"float\")\n",
    "train_data[\"Month 4\"] = train_data[\"Month 4\"].apply(lambda s: \"\".join(str(s).split())).astype(\"float\")"
   ],
   "metadata": {
    "collapsed": false
   },
   "id": "da56537b0e831aa1"
  },
  {
   "cell_type": "code",
   "execution_count": null,
   "outputs": [],
   "source": [
    "train_data"
   ],
   "metadata": {
    "collapsed": false
   },
   "id": "a19de58f5a9e02f"
  },
  {
   "cell_type": "code",
   "execution_count": null,
   "outputs": [],
   "source": [
    "from sklearn.ensemble import GradientBoostingRegressor\n",
    "from sklearn.tree import DecisionTreeClassifier\n",
    "from sklearn.preprocessing import FunctionTransformer\n",
    "\n",
    "X = train_data.drop(columns=\"Month 4\")\n",
    "y = train_data[\"Month 4\"]\n",
    "\n",
    "categorical_features    = [\n",
    "                            \"Region\",\n",
    "                            \"Country\",\n",
    "                            \"Site\",\n",
    "                            \"Operations\",\n",
    "                            \"Zone\",\n",
    "                            \"Cluster\",\n",
    "                            #\"Reference proxy\",\n",
    "                            #\"Product  Line proxy\", #typo !\n",
    "                            #\"Division proxy\",\n",
    "                            \"Customer Persona proxy\",\n",
    "                            \"Strategic Product Family proxy\",\n",
    "                            \"Product Life cycel status\", #typo !\n",
    "                            \"Date\"\n",
    "                        ]\n",
    "\n",
    "numerical_features      = [\n",
    "                            'Month 1', 'Month 2', 'Month 3'\n",
    "                        ]\n",
    "\n",
    "# Pipeline de transformation des features catégoriques \n",
    "\n",
    "categorical_transformer = Pipeline(steps=[\n",
    "    ('onehot', OneHotEncoder(handle_unknown='infrequent_if_exist')),\n",
    "    #('ordinal', OrdinalEncoder())\n",
    "])\n",
    "\n",
    "# Pipeline de transformation des features numériques \n",
    "\n",
    "numerical_transformer = Pipeline(steps=[\n",
    "    # ('remove_space', FunctionTransformer(np.frompyfunc(lambda s: \"\".join(str(s).split()), 1, 1))),\n",
    "    ('scaler', StandardScaler()),\n",
    "    ('imputer', SimpleImputer(strategy='constant', fill_value=-1))\n",
    "])\n",
    "\n",
    "preprocessor = ColumnTransformer(transformers=[\n",
    "        ('cat', categorical_transformer, categorical_features),\n",
    "        #('num', numerical_transformer, numerical_features)\n",
    "        ('num', numerical_transformer, numerical_features)\n",
    "])\n",
    "\n",
    "\n",
    "\n",
    "clf = Pipeline(steps=[\n",
    "    ('preprocessor', preprocessor),\n",
    "    ('classifier', GradientBoostingRegressor(random_state=0))\n",
    "])\n",
    "\n",
    "clf.fit(X, y)"
   ],
   "metadata": {
    "collapsed": false
   },
   "id": "4bd1038373bb4477"
  },
  {
   "cell_type": "code",
   "execution_count": null,
   "outputs": [],
   "source": [
    "exp = dx.Explainer(clf, X, y)"
   ],
   "metadata": {
    "collapsed": false
   },
   "id": "df7115c15605297f"
  },
  {
   "cell_type": "code",
   "execution_count": null,
   "outputs": [],
   "source": [
    "exp.model_performance().result"
   ],
   "metadata": {
    "collapsed": false
   },
   "id": "d11fbe713f967ced"
  },
  {
   "cell_type": "code",
   "execution_count": null,
   "outputs": [],
   "source": [],
   "metadata": {
    "collapsed": false
   },
   "id": "571d2cf5afafc0f9"
  }
 ],
 "metadata": {
  "kernelspec": {
   "display_name": "Python 3",
   "language": "python",
   "name": "python3"
  },
  "language_info": {
   "codemirror_mode": {
    "name": "ipython",
    "version": 2
   },
   "file_extension": ".py",
   "mimetype": "text/x-python",
   "name": "python",
   "nbconvert_exporter": "python",
   "pygments_lexer": "ipython2",
   "version": "2.7.6"
  }
 },
 "nbformat": 4,
 "nbformat_minor": 5
}

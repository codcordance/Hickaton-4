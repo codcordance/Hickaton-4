{
 "cells": [
  {
   "cell_type": "code",
   "execution_count": 1,
   "id": "initial_id",
   "metadata": {
    "collapsed": true,
    "ExecuteTime": {
     "end_time": "2023-12-03T06:06:19.148692600Z",
     "start_time": "2023-12-03T06:06:12.686229900Z"
    }
   },
   "outputs": [],
   "source": [
    "import matplotlib.pyplot as plt\n",
    "import numpy as np\n",
    "import pandas as pd\n",
    "from sklearn.compose import ColumnTransformer\n",
    "from sklearn.impute import SimpleImputer\n",
    "from sklearn.metrics import mean_squared_error\n",
    "from sklearn.model_selection import train_test_split\n",
    "from sklearn.pipeline import Pipeline\n",
    "from sklearn.preprocessing import OrdinalEncoder\n",
    "from sklearn.preprocessing import StandardScaler"
   ]
  },
  {
   "cell_type": "code",
   "execution_count": 2,
   "outputs": [],
   "source": [
    "train_data = pd.read_csv(\"./data/completed_train_data.csv\", sep=\";\")"
   ],
   "metadata": {
    "collapsed": false,
    "ExecuteTime": {
     "end_time": "2023-12-03T06:06:30.367943500Z",
     "start_time": "2023-12-03T06:06:19.153680300Z"
    }
   },
   "id": "6e11728b887f7a45"
  },
  {
   "cell_type": "code",
   "execution_count": 42,
   "outputs": [],
   "source": [
    "def RMSE_hfactory(y_test, y_pred):\n",
    "    R_0 = mean_squared_error(y_test, [0 for i in range(len(y_test))], squared=False)\n",
    "    RMSE_pred = mean_squared_error(y_test, y_pred, squared=False)\n",
    "    return (R_0 - 0.8 * RMSE_pred)/R_0, R_0"
   ],
   "metadata": {
    "collapsed": false,
    "ExecuteTime": {
     "end_time": "2023-12-03T07:20:51.191838100Z",
     "start_time": "2023-12-03T07:20:51.146886100Z"
    }
   },
   "id": "b2b97ebb512e8a83"
  },
  {
   "cell_type": "code",
   "execution_count": 4,
   "outputs": [],
   "source": [
    "X = train_data.drop(columns=\"target\")\n",
    "y = train_data[\"target\"]\n",
    "\n",
    "X_train, X_test, y_train, y_test = train_test_split(X, y, test_size=0.25, random_state=424269)"
   ],
   "metadata": {
    "collapsed": false,
    "ExecuteTime": {
     "end_time": "2023-12-03T06:06:33.327111100Z",
     "start_time": "2023-12-03T06:06:30.387890100Z"
    }
   },
   "id": "4bd1038373bb4477"
  },
  {
   "cell_type": "code",
   "execution_count": 10,
   "outputs": [],
   "source": [
    "categorical_features    = [\n",
    "                            #\"Region\",\n",
    "                            \"Country\",\n",
    "                            \"Site\",\n",
    "                            #\"Operations\",\n",
    "                            #\"Zone\",\n",
    "                            #\"Cluster\",\n",
    "                            #\"Reference proxy\",\n",
    "                            #\"Product  Line proxy\", #typo !\n",
    "                            \"Division proxy\",\n",
    "                            \"Customer Persona proxy\",\n",
    "                            \"Strategic Product Family proxy\",\n",
    "                            \"Product Life cycel status\", #typo !\n",
    "                            \"Date\"\n",
    "                        ]\n",
    "\n",
    "numerical_features      = [\n",
    "                            'Month 1', 'Month 2', 'Month 3',\n",
    "    'Month 5', 'Month 6', 'Month 7', 'Month 9', 'Month 10', 'Month 11',\n",
    "    'Month 13', 'Month 14', 'Month 15', 'Month 17', 'Month 18', 'Month 19',\n",
    "    'Month 21', 'Month 22', 'Month 23', 'Month 25', 'Month 26', 'Month 27',\n",
    "    'Month 29', 'Month 30', 'Month 31', #'Month 33',\n",
    "    'Month 34', 'Month 35', 'GSCPI'\n",
    "                        ]\n",
    "\n",
    "# Pipeline de transformation des features catégoriques"
   ],
   "metadata": {
    "collapsed": false,
    "ExecuteTime": {
     "end_time": "2023-12-03T06:12:39.565164900Z",
     "start_time": "2023-12-03T06:12:39.548208100Z"
    }
   },
   "id": "a2ab8370df0a76ef"
  },
  {
   "cell_type": "code",
   "execution_count": 14,
   "outputs": [
    {
     "name": "stdout",
     "output_type": "stream",
     "text": [
      "Iteration 1, loss = 159919.85709547\n",
      "Validation score: 0.520216\n",
      "Iteration 2, loss = 141264.40635112\n",
      "Validation score: 0.541803\n",
      "Iteration 3, loss = 138126.74041167\n",
      "Validation score: 0.559201\n",
      "Iteration 4, loss = 140260.58277848\n",
      "Validation score: 0.524515\n",
      "Iteration 5, loss = 139316.56595374\n",
      "Validation score: 0.510526\n",
      "Iteration 6, loss = 137696.57931841\n",
      "Validation score: 0.554505\n",
      "Iteration 7, loss = 136136.67652988\n",
      "Validation score: 0.550358\n",
      "Iteration 8, loss = 129433.17426159\n",
      "Validation score: 0.464820\n",
      "Iteration 9, loss = 139038.81081877\n",
      "Validation score: 0.551518\n",
      "Iteration 10, loss = 134560.38061395\n",
      "Validation score: 0.559372\n",
      "Iteration 11, loss = 131734.70209667\n",
      "Validation score: 0.572296\n",
      "Iteration 12, loss = 135183.35528985\n",
      "Validation score: 0.566185\n",
      "Iteration 13, loss = 131736.87769654\n",
      "Validation score: 0.474788\n",
      "Iteration 14, loss = 133378.70118485\n",
      "Validation score: 0.533928\n",
      "Iteration 15, loss = 132325.18903846\n",
      "Validation score: 0.549850\n",
      "Iteration 16, loss = 132005.77814841\n",
      "Validation score: 0.552690\n",
      "Iteration 17, loss = 131524.62756538\n",
      "Validation score: 0.506655\n",
      "Iteration 18, loss = 130457.72231731\n",
      "Validation score: 0.566055\n",
      "Iteration 19, loss = 133512.38525376\n",
      "Validation score: 0.567123\n",
      "Iteration 20, loss = 132207.85664306\n",
      "Validation score: 0.472724\n",
      "Iteration 21, loss = 135589.81975434\n",
      "Validation score: 0.543423\n",
      "Iteration 22, loss = 130180.28146816\n",
      "Validation score: 0.459699\n",
      "Iteration 23, loss = 130752.28651716\n",
      "Validation score: 0.530946\n",
      "Iteration 24, loss = 128102.87217721\n",
      "Validation score: 0.561239\n",
      "Iteration 25, loss = 127108.45900701\n",
      "Validation score: 0.527100\n",
      "Iteration 26, loss = 126461.67753308\n",
      "Validation score: 0.530620\n",
      "Iteration 27, loss = 134152.25983095\n",
      "Validation score: 0.553803\n",
      "Iteration 28, loss = 132157.98534734\n",
      "Validation score: 0.553485\n",
      "Iteration 29, loss = 126949.79267469\n",
      "Validation score: 0.472620\n",
      "Iteration 30, loss = 129791.33156058\n",
      "Validation score: 0.544879\n",
      "Iteration 31, loss = 130686.90568909\n",
      "Validation score: 0.547186\n",
      "Iteration 32, loss = 127431.31653174\n",
      "Validation score: 0.520282\n",
      "Validation score did not improve more than tol=0.000100 for 20 consecutive epochs. Stopping.\n"
     ]
    },
    {
     "data": {
      "text/plain": "Pipeline(steps=[('preprocessor',\n                 ColumnTransformer(transformers=[('cat',\n                                                  Pipeline(steps=[('ordinal',\n                                                                   OrdinalEncoder(encoded_missing_value=3))]),\n                                                  ['Country', 'Site',\n                                                   'Division proxy',\n                                                   'Customer Persona proxy',\n                                                   'Strategic Product Family '\n                                                   'proxy',\n                                                   'Product Life cycel status',\n                                                   'Date']),\n                                                 ('num',\n                                                  Pipeline(steps=[('imputer',\n                                                                   SimpleImputer(strategy='most_frequent')),\n                                                                  ('scaler',\n                                                                   S...\n                                                   'Month 6', 'Month 7',\n                                                   'Month 9', 'Month 10',\n                                                   'Month 11', 'Month 13',\n                                                   'Month 14', 'Month 15',\n                                                   'Month 17', 'Month 18',\n                                                   'Month 19', 'Month 21',\n                                                   'Month 22', 'Month 23',\n                                                   'Month 25', 'Month 26',\n                                                   'Month 27', 'Month 29',\n                                                   'Month 30', 'Month 31',\n                                                   'Month 34', 'Month 35',\n                                                   'GSCPI'])])),\n                ('regressor',\n                 MLPRegressor(early_stopping=True,\n                              hidden_layer_sizes=(100, 100),\n                              n_iter_no_change=20, random_state=1,\n                              verbose=True))])",
      "text/html": "<style>#sk-container-id-3 {color: black;}#sk-container-id-3 pre{padding: 0;}#sk-container-id-3 div.sk-toggleable {background-color: white;}#sk-container-id-3 label.sk-toggleable__label {cursor: pointer;display: block;width: 100%;margin-bottom: 0;padding: 0.3em;box-sizing: border-box;text-align: center;}#sk-container-id-3 label.sk-toggleable__label-arrow:before {content: \"▸\";float: left;margin-right: 0.25em;color: #696969;}#sk-container-id-3 label.sk-toggleable__label-arrow:hover:before {color: black;}#sk-container-id-3 div.sk-estimator:hover label.sk-toggleable__label-arrow:before {color: black;}#sk-container-id-3 div.sk-toggleable__content {max-height: 0;max-width: 0;overflow: hidden;text-align: left;background-color: #f0f8ff;}#sk-container-id-3 div.sk-toggleable__content pre {margin: 0.2em;color: black;border-radius: 0.25em;background-color: #f0f8ff;}#sk-container-id-3 input.sk-toggleable__control:checked~div.sk-toggleable__content {max-height: 200px;max-width: 100%;overflow: auto;}#sk-container-id-3 input.sk-toggleable__control:checked~label.sk-toggleable__label-arrow:before {content: \"▾\";}#sk-container-id-3 div.sk-estimator input.sk-toggleable__control:checked~label.sk-toggleable__label {background-color: #d4ebff;}#sk-container-id-3 div.sk-label input.sk-toggleable__control:checked~label.sk-toggleable__label {background-color: #d4ebff;}#sk-container-id-3 input.sk-hidden--visually {border: 0;clip: rect(1px 1px 1px 1px);clip: rect(1px, 1px, 1px, 1px);height: 1px;margin: -1px;overflow: hidden;padding: 0;position: absolute;width: 1px;}#sk-container-id-3 div.sk-estimator {font-family: monospace;background-color: #f0f8ff;border: 1px dotted black;border-radius: 0.25em;box-sizing: border-box;margin-bottom: 0.5em;}#sk-container-id-3 div.sk-estimator:hover {background-color: #d4ebff;}#sk-container-id-3 div.sk-parallel-item::after {content: \"\";width: 100%;border-bottom: 1px solid gray;flex-grow: 1;}#sk-container-id-3 div.sk-label:hover label.sk-toggleable__label {background-color: #d4ebff;}#sk-container-id-3 div.sk-serial::before {content: \"\";position: absolute;border-left: 1px solid gray;box-sizing: border-box;top: 0;bottom: 0;left: 50%;z-index: 0;}#sk-container-id-3 div.sk-serial {display: flex;flex-direction: column;align-items: center;background-color: white;padding-right: 0.2em;padding-left: 0.2em;position: relative;}#sk-container-id-3 div.sk-item {position: relative;z-index: 1;}#sk-container-id-3 div.sk-parallel {display: flex;align-items: stretch;justify-content: center;background-color: white;position: relative;}#sk-container-id-3 div.sk-item::before, #sk-container-id-3 div.sk-parallel-item::before {content: \"\";position: absolute;border-left: 1px solid gray;box-sizing: border-box;top: 0;bottom: 0;left: 50%;z-index: -1;}#sk-container-id-3 div.sk-parallel-item {display: flex;flex-direction: column;z-index: 1;position: relative;background-color: white;}#sk-container-id-3 div.sk-parallel-item:first-child::after {align-self: flex-end;width: 50%;}#sk-container-id-3 div.sk-parallel-item:last-child::after {align-self: flex-start;width: 50%;}#sk-container-id-3 div.sk-parallel-item:only-child::after {width: 0;}#sk-container-id-3 div.sk-dashed-wrapped {border: 1px dashed gray;margin: 0 0.4em 0.5em 0.4em;box-sizing: border-box;padding-bottom: 0.4em;background-color: white;}#sk-container-id-3 div.sk-label label {font-family: monospace;font-weight: bold;display: inline-block;line-height: 1.2em;}#sk-container-id-3 div.sk-label-container {text-align: center;}#sk-container-id-3 div.sk-container {/* jupyter's `normalize.less` sets `[hidden] { display: none; }` but bootstrap.min.css set `[hidden] { display: none !important; }` so we also need the `!important` here to be able to override the default hidden behavior on the sphinx rendered scikit-learn.org. See: https://github.com/scikit-learn/scikit-learn/issues/21755 */display: inline-block !important;position: relative;}#sk-container-id-3 div.sk-text-repr-fallback {display: none;}</style><div id=\"sk-container-id-3\" class=\"sk-top-container\"><div class=\"sk-text-repr-fallback\"><pre>Pipeline(steps=[(&#x27;preprocessor&#x27;,\n                 ColumnTransformer(transformers=[(&#x27;cat&#x27;,\n                                                  Pipeline(steps=[(&#x27;ordinal&#x27;,\n                                                                   OrdinalEncoder(encoded_missing_value=3))]),\n                                                  [&#x27;Country&#x27;, &#x27;Site&#x27;,\n                                                   &#x27;Division proxy&#x27;,\n                                                   &#x27;Customer Persona proxy&#x27;,\n                                                   &#x27;Strategic Product Family &#x27;\n                                                   &#x27;proxy&#x27;,\n                                                   &#x27;Product Life cycel status&#x27;,\n                                                   &#x27;Date&#x27;]),\n                                                 (&#x27;num&#x27;,\n                                                  Pipeline(steps=[(&#x27;imputer&#x27;,\n                                                                   SimpleImputer(strategy=&#x27;most_frequent&#x27;)),\n                                                                  (&#x27;scaler&#x27;,\n                                                                   S...\n                                                   &#x27;Month 6&#x27;, &#x27;Month 7&#x27;,\n                                                   &#x27;Month 9&#x27;, &#x27;Month 10&#x27;,\n                                                   &#x27;Month 11&#x27;, &#x27;Month 13&#x27;,\n                                                   &#x27;Month 14&#x27;, &#x27;Month 15&#x27;,\n                                                   &#x27;Month 17&#x27;, &#x27;Month 18&#x27;,\n                                                   &#x27;Month 19&#x27;, &#x27;Month 21&#x27;,\n                                                   &#x27;Month 22&#x27;, &#x27;Month 23&#x27;,\n                                                   &#x27;Month 25&#x27;, &#x27;Month 26&#x27;,\n                                                   &#x27;Month 27&#x27;, &#x27;Month 29&#x27;,\n                                                   &#x27;Month 30&#x27;, &#x27;Month 31&#x27;,\n                                                   &#x27;Month 34&#x27;, &#x27;Month 35&#x27;,\n                                                   &#x27;GSCPI&#x27;])])),\n                (&#x27;regressor&#x27;,\n                 MLPRegressor(early_stopping=True,\n                              hidden_layer_sizes=(100, 100),\n                              n_iter_no_change=20, random_state=1,\n                              verbose=True))])</pre><b>In a Jupyter environment, please rerun this cell to show the HTML representation or trust the notebook. <br />On GitHub, the HTML representation is unable to render, please try loading this page with nbviewer.org.</b></div><div class=\"sk-container\" hidden><div class=\"sk-item sk-dashed-wrapped\"><div class=\"sk-label-container\"><div class=\"sk-label sk-toggleable\"><input class=\"sk-toggleable__control sk-hidden--visually\" id=\"sk-estimator-id-17\" type=\"checkbox\" ><label for=\"sk-estimator-id-17\" class=\"sk-toggleable__label sk-toggleable__label-arrow\">Pipeline</label><div class=\"sk-toggleable__content\"><pre>Pipeline(steps=[(&#x27;preprocessor&#x27;,\n                 ColumnTransformer(transformers=[(&#x27;cat&#x27;,\n                                                  Pipeline(steps=[(&#x27;ordinal&#x27;,\n                                                                   OrdinalEncoder(encoded_missing_value=3))]),\n                                                  [&#x27;Country&#x27;, &#x27;Site&#x27;,\n                                                   &#x27;Division proxy&#x27;,\n                                                   &#x27;Customer Persona proxy&#x27;,\n                                                   &#x27;Strategic Product Family &#x27;\n                                                   &#x27;proxy&#x27;,\n                                                   &#x27;Product Life cycel status&#x27;,\n                                                   &#x27;Date&#x27;]),\n                                                 (&#x27;num&#x27;,\n                                                  Pipeline(steps=[(&#x27;imputer&#x27;,\n                                                                   SimpleImputer(strategy=&#x27;most_frequent&#x27;)),\n                                                                  (&#x27;scaler&#x27;,\n                                                                   S...\n                                                   &#x27;Month 6&#x27;, &#x27;Month 7&#x27;,\n                                                   &#x27;Month 9&#x27;, &#x27;Month 10&#x27;,\n                                                   &#x27;Month 11&#x27;, &#x27;Month 13&#x27;,\n                                                   &#x27;Month 14&#x27;, &#x27;Month 15&#x27;,\n                                                   &#x27;Month 17&#x27;, &#x27;Month 18&#x27;,\n                                                   &#x27;Month 19&#x27;, &#x27;Month 21&#x27;,\n                                                   &#x27;Month 22&#x27;, &#x27;Month 23&#x27;,\n                                                   &#x27;Month 25&#x27;, &#x27;Month 26&#x27;,\n                                                   &#x27;Month 27&#x27;, &#x27;Month 29&#x27;,\n                                                   &#x27;Month 30&#x27;, &#x27;Month 31&#x27;,\n                                                   &#x27;Month 34&#x27;, &#x27;Month 35&#x27;,\n                                                   &#x27;GSCPI&#x27;])])),\n                (&#x27;regressor&#x27;,\n                 MLPRegressor(early_stopping=True,\n                              hidden_layer_sizes=(100, 100),\n                              n_iter_no_change=20, random_state=1,\n                              verbose=True))])</pre></div></div></div><div class=\"sk-serial\"><div class=\"sk-item sk-dashed-wrapped\"><div class=\"sk-label-container\"><div class=\"sk-label sk-toggleable\"><input class=\"sk-toggleable__control sk-hidden--visually\" id=\"sk-estimator-id-18\" type=\"checkbox\" ><label for=\"sk-estimator-id-18\" class=\"sk-toggleable__label sk-toggleable__label-arrow\">preprocessor: ColumnTransformer</label><div class=\"sk-toggleable__content\"><pre>ColumnTransformer(transformers=[(&#x27;cat&#x27;,\n                                 Pipeline(steps=[(&#x27;ordinal&#x27;,\n                                                  OrdinalEncoder(encoded_missing_value=3))]),\n                                 [&#x27;Country&#x27;, &#x27;Site&#x27;, &#x27;Division proxy&#x27;,\n                                  &#x27;Customer Persona proxy&#x27;,\n                                  &#x27;Strategic Product Family proxy&#x27;,\n                                  &#x27;Product Life cycel status&#x27;, &#x27;Date&#x27;]),\n                                (&#x27;num&#x27;,\n                                 Pipeline(steps=[(&#x27;imputer&#x27;,\n                                                  SimpleImputer(strategy=&#x27;most_frequent&#x27;)),\n                                                 (&#x27;scaler&#x27;, StandardScaler())]),\n                                 [&#x27;Month 1&#x27;, &#x27;Month 5&#x27;, &#x27;Month 6&#x27;, &#x27;Month 7&#x27;,\n                                  &#x27;Month 9&#x27;, &#x27;Month 10&#x27;, &#x27;Month 11&#x27;, &#x27;Month 13&#x27;,\n                                  &#x27;Month 14&#x27;, &#x27;Month 15&#x27;, &#x27;Month 17&#x27;,\n                                  &#x27;Month 18&#x27;, &#x27;Month 19&#x27;, &#x27;Month 21&#x27;,\n                                  &#x27;Month 22&#x27;, &#x27;Month 23&#x27;, &#x27;Month 25&#x27;,\n                                  &#x27;Month 26&#x27;, &#x27;Month 27&#x27;, &#x27;Month 29&#x27;,\n                                  &#x27;Month 30&#x27;, &#x27;Month 31&#x27;, &#x27;Month 34&#x27;,\n                                  &#x27;Month 35&#x27;, &#x27;GSCPI&#x27;])])</pre></div></div></div><div class=\"sk-parallel\"><div class=\"sk-parallel-item\"><div class=\"sk-item\"><div class=\"sk-label-container\"><div class=\"sk-label sk-toggleable\"><input class=\"sk-toggleable__control sk-hidden--visually\" id=\"sk-estimator-id-19\" type=\"checkbox\" ><label for=\"sk-estimator-id-19\" class=\"sk-toggleable__label sk-toggleable__label-arrow\">cat</label><div class=\"sk-toggleable__content\"><pre>[&#x27;Country&#x27;, &#x27;Site&#x27;, &#x27;Division proxy&#x27;, &#x27;Customer Persona proxy&#x27;, &#x27;Strategic Product Family proxy&#x27;, &#x27;Product Life cycel status&#x27;, &#x27;Date&#x27;]</pre></div></div></div><div class=\"sk-serial\"><div class=\"sk-item\"><div class=\"sk-serial\"><div class=\"sk-item\"><div class=\"sk-estimator sk-toggleable\"><input class=\"sk-toggleable__control sk-hidden--visually\" id=\"sk-estimator-id-20\" type=\"checkbox\" ><label for=\"sk-estimator-id-20\" class=\"sk-toggleable__label sk-toggleable__label-arrow\">OrdinalEncoder</label><div class=\"sk-toggleable__content\"><pre>OrdinalEncoder(encoded_missing_value=3)</pre></div></div></div></div></div></div></div></div><div class=\"sk-parallel-item\"><div class=\"sk-item\"><div class=\"sk-label-container\"><div class=\"sk-label sk-toggleable\"><input class=\"sk-toggleable__control sk-hidden--visually\" id=\"sk-estimator-id-21\" type=\"checkbox\" ><label for=\"sk-estimator-id-21\" class=\"sk-toggleable__label sk-toggleable__label-arrow\">num</label><div class=\"sk-toggleable__content\"><pre>[&#x27;Month 1&#x27;, &#x27;Month 5&#x27;, &#x27;Month 6&#x27;, &#x27;Month 7&#x27;, &#x27;Month 9&#x27;, &#x27;Month 10&#x27;, &#x27;Month 11&#x27;, &#x27;Month 13&#x27;, &#x27;Month 14&#x27;, &#x27;Month 15&#x27;, &#x27;Month 17&#x27;, &#x27;Month 18&#x27;, &#x27;Month 19&#x27;, &#x27;Month 21&#x27;, &#x27;Month 22&#x27;, &#x27;Month 23&#x27;, &#x27;Month 25&#x27;, &#x27;Month 26&#x27;, &#x27;Month 27&#x27;, &#x27;Month 29&#x27;, &#x27;Month 30&#x27;, &#x27;Month 31&#x27;, &#x27;Month 34&#x27;, &#x27;Month 35&#x27;, &#x27;GSCPI&#x27;]</pre></div></div></div><div class=\"sk-serial\"><div class=\"sk-item\"><div class=\"sk-serial\"><div class=\"sk-item\"><div class=\"sk-estimator sk-toggleable\"><input class=\"sk-toggleable__control sk-hidden--visually\" id=\"sk-estimator-id-22\" type=\"checkbox\" ><label for=\"sk-estimator-id-22\" class=\"sk-toggleable__label sk-toggleable__label-arrow\">SimpleImputer</label><div class=\"sk-toggleable__content\"><pre>SimpleImputer(strategy=&#x27;most_frequent&#x27;)</pre></div></div></div><div class=\"sk-item\"><div class=\"sk-estimator sk-toggleable\"><input class=\"sk-toggleable__control sk-hidden--visually\" id=\"sk-estimator-id-23\" type=\"checkbox\" ><label for=\"sk-estimator-id-23\" class=\"sk-toggleable__label sk-toggleable__label-arrow\">StandardScaler</label><div class=\"sk-toggleable__content\"><pre>StandardScaler()</pre></div></div></div></div></div></div></div></div></div></div><div class=\"sk-item\"><div class=\"sk-estimator sk-toggleable\"><input class=\"sk-toggleable__control sk-hidden--visually\" id=\"sk-estimator-id-24\" type=\"checkbox\" ><label for=\"sk-estimator-id-24\" class=\"sk-toggleable__label sk-toggleable__label-arrow\">MLPRegressor</label><div class=\"sk-toggleable__content\"><pre>MLPRegressor(early_stopping=True, hidden_layer_sizes=(100, 100),\n             n_iter_no_change=20, random_state=1, verbose=True)</pre></div></div></div></div></div></div></div>"
     },
     "execution_count": 14,
     "metadata": {},
     "output_type": "execute_result"
    }
   ],
   "source": [
    "\n",
    "from sklearn.neural_network import MLPRegressor\n",
    "\n",
    "categorical_transformer = Pipeline(steps=[\n",
    "    ('ordinal', OrdinalEncoder(encoded_missing_value=3))\n",
    "])\n",
    "\n",
    "numerical_transformer = Pipeline(steps=[\n",
    "    ('imputer', SimpleImputer(strategy='most_frequent')),\n",
    "    ('scaler', StandardScaler())\n",
    "])\n",
    "\n",
    "preprocessor = ColumnTransformer(transformers=[\n",
    "        ('cat', categorical_transformer, categorical_features),\n",
    "        ('num', numerical_transformer, numerical_features)\n",
    "])\n",
    "\n",
    "\n",
    "reg = Pipeline(steps=[\n",
    "    ('preprocessor', preprocessor),\n",
    "    ('regressor', MLPRegressor(hidden_layer_sizes=(100,100), random_state=1, max_iter=200, n_iter_no_change=20, early_stopping=True, verbose=True))\n",
    "    #('regressor', HistGradientBoostingRegressor(max_iter=400, tol=1e-10, random_state=42427, verbose=True))\n",
    "])\n",
    "\n",
    "reg.fit(X_train, y_train)"
   ],
   "metadata": {
    "collapsed": false,
    "ExecuteTime": {
     "end_time": "2023-12-03T06:26:41.115119200Z",
     "start_time": "2023-12-03T06:16:40.150388900Z"
    }
   },
   "id": "48ce72dffc41c5c4"
  },
  {
   "cell_type": "code",
   "execution_count": 15,
   "outputs": [
    {
     "data": {
      "text/plain": "<matplotlib.legend.Legend at 0x1e99633cb80>"
     },
     "execution_count": 15,
     "metadata": {},
     "output_type": "execute_result"
    },
    {
     "data": {
      "text/plain": "<Figure size 640x480 with 1 Axes>",
      "image/png": "[encoded data removed]"
     },
     "metadata": {},
     "output_type": "display_data"
    }
   ],
   "source": [
    "plt.plot(reg[\"regressor\"].loss_curve_,'b', label='Training loss')\n",
    "plt.plot(reg[\"regressor\"].validation_scores_, 'g', label='Validation loss')\n",
    "plt.title('Training loss')\n",
    "plt.xlabel('Epochs')\n",
    "plt.ylabel('Loss')\n",
    "plt.legend()"
   ],
   "metadata": {
    "collapsed": false,
    "ExecuteTime": {
     "end_time": "2023-12-03T06:49:05.020894200Z",
     "start_time": "2023-12-03T06:49:04.714714500Z"
    }
   },
   "id": "42f7b2909c724e51"
  },
  {
   "cell_type": "code",
   "execution_count": 43,
   "outputs": [
    {
     "data": {
      "text/plain": "(436.91903153733807, (0.4787834258821013, 670.6590699166927))"
     },
     "execution_count": 43,
     "metadata": {},
     "output_type": "execute_result"
    }
   ],
   "source": [
    "y_pred = reg.predict(X_test)\n",
    "y_pred2 = np.vectorize(lambda i : 0 if i < 0 else i//1)(y_pred)\n",
    "mean_squared_error(y_test, y_pred2, squared=False), RMSE_hfactory(y_test, y_pred)"
   ],
   "metadata": {
    "collapsed": false,
    "ExecuteTime": {
     "end_time": "2023-12-03T07:21:07.249020900Z",
     "start_time": "2023-12-03T07:21:02.862506800Z"
    }
   },
   "id": "cd71c8687b22c2f3"
  },
  {
   "cell_type": "code",
   "execution_count": 23,
   "outputs": [],
   "source": [
    "df_test = pd.read_csv(\"./data/X_test.csv\", sep=\";\")\n",
    "train_data_run = pd.read_csv(\"./data/completed_train_data.csv\", sep=\";\")\n",
    "\n",
    "df_test = df_test[[\"id_product\", \"index\", \"Date\"]]\n",
    "test_data = df_test.set_index([\"id_product\"]).join(train_data_run.drop(columns=[\"Date\", \"index\"]).drop_duplicates(subset=[\"id_product\"]).set_index([\"id_product\"])).reset_index()\n",
    "test_data.loc[:, \"Month 4\"] = np.maximum(0, reg.predict(test_data))\n",
    "output = test_data[['index', 'Month 4']].set_index('index')"
   ],
   "metadata": {
    "collapsed": false,
    "ExecuteTime": {
     "end_time": "2023-12-03T07:02:37.369543300Z",
     "start_time": "2023-12-03T07:02:23.342054400Z"
    }
   },
   "id": "7b7c8a79753bdf71"
  },
  {
   "cell_type": "code",
   "execution_count": 41,
   "outputs": [],
   "source": [
    "output.to_csv(\"prediction.csv\", sep=\";\")"
   ],
   "metadata": {
    "collapsed": false,
    "ExecuteTime": {
     "end_time": "2023-12-03T07:14:28.220142200Z",
     "start_time": "2023-12-03T07:14:27.198467100Z"
    }
   },
   "id": "4bb2d631b39a99a2"
  }
 ],
 "metadata": {
  "kernelspec": {
   "display_name": "Python 3",
   "language": "python",
   "name": "python3"
  },
  "language_info": {
   "codemirror_mode": {
    "name": "ipython",
    "version": 2
   },
   "file_extension": ".py",
   "mimetype": "text/x-python",
   "name": "python",
   "nbconvert_exporter": "python",
   "pygments_lexer": "ipython2",
   "version": "2.7.6"
  }
 },
 "nbformat": 4,
 "nbformat_minor": 5
}

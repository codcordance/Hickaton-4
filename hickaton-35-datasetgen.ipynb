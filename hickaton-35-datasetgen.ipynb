{
 "cells": [
  {
   "cell_type": "markdown",
   "source": [
    "# Hi!35 - full code for SupplAi.\n",
    "\n",
    "## Compact version\n",
    "\n",
    "### Generating the data sets."
   ],
   "metadata": {
    "collapsed": false
   },
   "id": "c0be41f26c310b93"
  },
  {
   "cell_type": "code",
   "execution_count": 1,
   "outputs": [],
   "source": [
    "import numpy as np\n",
    "import pandas as pd\n",
    "from tqdm.notebook import tqdm\n",
    "\n",
    "tqdm.pandas()"
   ],
   "metadata": {
    "collapsed": false,
    "ExecuteTime": {
     "end_time": "2023-12-03T05:16:48.934319500Z",
     "start_time": "2023-12-03T05:16:47.586986400Z"
    }
   },
   "id": "4ff4ca3dc47c92df"
  },
  {
   "cell_type": "code",
   "execution_count": 2,
   "outputs": [],
   "source": [
    "train_data = pd.read_csv(\"./data/train-data.csv\", sep=\";\")\n",
    "X_set = pd.read_csv(\"./data/X_test.csv\", sep=\";\")\n",
    "GSCPI_data = pd.read_csv(\"./data/GSCPI_data.csv\")"
   ],
   "metadata": {
    "collapsed": false,
    "ExecuteTime": {
     "end_time": "2023-12-03T05:16:59.413422700Z",
     "start_time": "2023-12-03T05:16:48.939304500Z"
    }
   },
   "id": "ba0c04120470768e"
  },
  {
   "cell_type": "code",
   "execution_count": 3,
   "outputs": [],
   "source": [
    "train_data.drop_duplicates(\"index\", inplace=True)\n",
    "fill_data = pd.concat([train_data, X_set])\n",
    "date_features = ['Date','Month 1', 'Month 2', 'Month 3', 'Month 4']\n",
    "product_sales = fill_data.groupby('id_product')[date_features].agg(list)"
   ],
   "metadata": {
    "collapsed": false,
    "ExecuteTime": {
     "end_time": "2023-12-03T05:17:24.091460700Z",
     "start_time": "2023-12-03T05:16:59.415417200Z"
    }
   },
   "id": "a8a24190febfbb13"
  },
  {
   "cell_type": "code",
   "execution_count": 4,
   "outputs": [
    {
     "data": {
      "text/plain": "  0%|          | 0/244857 [00:00<?, ?it/s]",
      "application/vnd.jupyter.widget-view+json": {
       "version_major": 2,
       "version_minor": 0,
       "model_id": "9c449ef544a544a6b03602cc6199b780"
      }
     },
     "metadata": {},
     "output_type": "display_data"
    }
   ],
   "source": [
    "months_features = np.vectorize(lambda i: f\"Month {i}\")(np.arange(1, 37))\n",
    "chrono_quarter = {\n",
    "    \"sep-dec 2020\": 0,\n",
    "    \"jan-apr 2021\": 4,\n",
    "    \"may-aug 2021\": 8,\n",
    "    \"sep-dec 2021\": 12,\n",
    "    \"jan-apr 2022\": 16,\n",
    "    \"may-aug 2022\": 20,\n",
    "    \"sep-dec 2022\": 24,\n",
    "    \"jan-apr 2023\": 28,\n",
    "    \"may-jul 2023\": 32,\n",
    "}\n",
    "\n",
    "def compute_sales(row):\n",
    "    dates, values = [], []\n",
    "    for i,d in enumerate(row['Date']):\n",
    "        p = chrono_quarter[d]\n",
    "        dates.extend([months_features[p+j] for j in range(4)])\n",
    "        values.extend([row[f\"Month {j+1}\"][i] for j in range(4)])\n",
    "    tmp = np.array(sorted(zip(dates, values)))\n",
    "    dates = tmp[:,0]\n",
    "    values = tmp[:,1]\n",
    "    return dates, values\n",
    "\n",
    "applied = product_sales.progress_apply(compute_sales, axis = 1)"
   ],
   "metadata": {
    "collapsed": false,
    "ExecuteTime": {
     "end_time": "2023-12-03T05:18:09.862491500Z",
     "start_time": "2023-12-03T05:17:24.096449100Z"
    }
   },
   "id": "a954c19e1b1b9392"
  },
  {
   "cell_type": "code",
   "execution_count": 5,
   "outputs": [],
   "source": [
    "features = [x[0] for x in applied.values]\n",
    "values = [x[1] for x in applied.values]\n",
    "product_sales = pd.DataFrame(values, index=applied.index, columns=features[0])[months_features]\n",
    "\n",
    "int_parser = lambda s: np.nan if s == 'nan' else \"\".join(str(s).split())\n",
    "\n",
    "for f in months_features:\n",
    "    product_sales[f] = product_sales[f].apply(int_parser).astype(np.float32)"
   ],
   "metadata": {
    "collapsed": false,
    "ExecuteTime": {
     "end_time": "2023-12-03T05:18:27.365880100Z",
     "start_time": "2023-12-03T05:18:09.863505900Z"
    }
   },
   "id": "bd04f954c09e1af8"
  },
  {
   "cell_type": "code",
   "execution_count": 6,
   "outputs": [],
   "source": [
    "product_features = ['id_product', 'Region', 'Country', 'Site', 'Operations',\n",
    "       'Zone', 'Cluster', 'Reference proxy', 'Product  Line proxy',\n",
    "       'Division proxy', 'Customer Persona proxy',\n",
    "       'Strategic Product Family proxy', 'Product Life cycel status']\n",
    "\n",
    "product_info = fill_data.drop_duplicates(\"id_product\")[product_features].set_index('id_product')"
   ],
   "metadata": {
    "collapsed": false,
    "ExecuteTime": {
     "end_time": "2023-12-03T05:18:28.111447200Z",
     "start_time": "2023-12-03T05:18:27.385842700Z"
    }
   },
   "id": "e004aa4d99f84cc6"
  },
  {
   "cell_type": "code",
   "execution_count": 7,
   "outputs": [],
   "source": [
    "product_data = product_info.join(product_sales).reset_index()\n",
    "\n",
    "completed_train_data = (train_data\n",
    "                        .rename(columns={'Month 4': 'target'})\n",
    "                        .drop(columns=['Month 1', 'Month 2', 'Month 3'])\n",
    "                        .set_index('id_product')\n",
    "                        .join(product_sales)\n",
    "                        .drop(columns=[f'Month {i}' for i in range(4, 37, 4)])\n",
    "                        .reset_index()\n",
    "                        )\n",
    "\n",
    "completed_train_data['target'] = completed_train_data['target'].apply(int_parser).astype(np.float32)"
   ],
   "metadata": {
    "collapsed": false,
    "ExecuteTime": {
     "end_time": "2023-12-03T05:18:36.322737600Z",
     "start_time": "2023-12-03T05:18:28.114438900Z"
    }
   },
   "id": "1dc3a9afcff565cc"
  },
  {
   "cell_type": "code",
   "execution_count": 8,
   "outputs": [],
   "source": [
    "GSCPI_map = {\n",
    "    '2021-01': 'jan-apr 2021',\n",
    "    '2021-02': 'jan-apr 2021',\n",
    "    '2021-03': 'jan-apr 2021',\n",
    "    '2021-04': 'jan-apr 2021',\n",
    "    '2021-05': 'may-aug 2021',\n",
    "    '2021-06': 'may-aug 2021',\n",
    "    '2021-07': 'may-aug 2021',\n",
    "    '2021-08': 'may-aug 2021',\n",
    "    '2021-09': 'sep-dec 2021',\n",
    "    '2021-10': 'sep-dec 2021',\n",
    "    '2021-11': 'sep-dec 2021',\n",
    "    '2021-12': 'sep-dec 2021',\n",
    "    '2022-01': 'jan-apr 2022',\n",
    "    '2022-02': 'jan-apr 2022',\n",
    "    '2022-03': 'jan-apr 2022',\n",
    "    '2022-04': 'jan-apr 2022',\n",
    "    '2022-05': 'may-aug 2022',\n",
    "    '2022-06': 'may-aug 2022',\n",
    "    '2022-07': 'may-aug 2022',\n",
    "    '2022-08': 'may-aug 2022',\n",
    "    '2022-09': 'sep-dec 2022',\n",
    "    '2022-10': 'sep-dec 2022',\n",
    "    '2022-11': 'sep-dec 2022',\n",
    "    '2022-12': 'sep-dec 2022',\n",
    "    '2023-01': 'jan-apr 2023',\n",
    "    '2023-02': 'jan-apr 2023',\n",
    "    '2023-03': 'jan-apr 2023',\n",
    "    '2023-04': 'jan-apr 2023',\n",
    "    '2023-05': 'may-jul 2023',\n",
    "    '2023-06': 'may-jul 2023',\n",
    "    '2023-07': 'may-jul 2023',\n",
    "    '2023-08': 'may-jul 2023',\n",
    "}\n",
    "\n",
    "GSCPI_data = GSCPI_data[GSCPI_data[\"Year-Month\"].isin(GSCPI_map.keys())]\n",
    "GSCPI_data[\"Date\"] = GSCPI_data[\"Year-Month\"].apply(lambda s: GSCPI_map[s])\n",
    "\n",
    "completed_train_data = (completed_train_data\n",
    "                        .set_index(\"Date\")\n",
    "                        .join(GSCPI_data.dropna()\n",
    "                              .groupby([\"Date\"])[\"GSCPI\"]\n",
    "                              .mean()\n",
    "                              )\n",
    "                        .reset_index()\n",
    "                        )"
   ],
   "metadata": {
    "collapsed": false,
    "ExecuteTime": {
     "end_time": "2023-12-03T05:18:39.750572700Z",
     "start_time": "2023-12-03T05:18:36.364626800Z"
    }
   },
   "id": "2685ccd642c359ab"
  },
  {
   "cell_type": "code",
   "execution_count": 10,
   "outputs": [],
   "source": [
    "product_data.to_csv(\"./data/product_data.csv\", sep=\";\")\n",
    "completed_train_data.to_csv(\"./data/completed_train_data.csv\", sep=\";\")"
   ],
   "metadata": {
    "collapsed": false,
    "ExecuteTime": {
     "end_time": "2023-12-03T05:19:31.043564500Z",
     "start_time": "2023-12-03T05:18:41.367407800Z"
    }
   },
   "id": "f30110edb651cd2c"
  },
  {
   "cell_type": "markdown",
   "source": [
    "Last run : files generated on portable computer in less than 3 minutes and 30 seconds."
   ],
   "metadata": {
    "collapsed": false
   },
   "id": "c754f9c4523d77bc"
  },
  {
   "cell_type": "code",
   "execution_count": null,
   "outputs": [],
   "source": [],
   "metadata": {
    "collapsed": false
   },
   "id": "490f1d1e29764b7"
  }
 ],
 "metadata": {
  "kernelspec": {
   "display_name": "Python 3",
   "language": "python",
   "name": "python3"
  },
  "language_info": {
   "codemirror_mode": {
    "name": "ipython",
    "version": 2
   },
   "file_extension": ".py",
   "mimetype": "text/x-python",
   "name": "python",
   "nbconvert_exporter": "python",
   "pygments_lexer": "ipython2",
   "version": "2.7.6"
  }
 },
 "nbformat": 4,
 "nbformat_minor": 5
}
